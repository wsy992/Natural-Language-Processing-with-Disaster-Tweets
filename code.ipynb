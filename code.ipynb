{
 "cells": [
  {
   "cell_type": "code",
   "execution_count": 1,
   "id": "da4a0389",
   "metadata": {
    "execution": {
     "iopub.execute_input": "2025-10-18T09:52:50.036835Z",
     "iopub.status.busy": "2025-10-18T09:52:50.036564Z",
     "iopub.status.idle": "2025-10-18T09:54:25.849032Z",
     "shell.execute_reply": "2025-10-18T09:54:25.848389Z"
    },
    "papermill": {
     "duration": 95.820586,
     "end_time": "2025-10-18T09:54:25.850444",
     "exception": false,
     "start_time": "2025-10-18T09:52:50.029858",
     "status": "completed"
    },
    "tags": []
   },
   "outputs": [
    {
     "name": "stdout",
     "output_type": "stream",
     "text": [
      "\n",
      "\u001b[1m[\u001b[0m\u001b[34;49mnotice\u001b[0m\u001b[1;39;49m]\u001b[0m\u001b[39;49m A new release of pip is available: \u001b[0m\u001b[31;49m25.2\u001b[0m\u001b[39;49m -> \u001b[0m\u001b[32;49m25.3\u001b[0m\n",
      "\u001b[1m[\u001b[0m\u001b[34;49mnotice\u001b[0m\u001b[1;39;49m]\u001b[0m\u001b[39;49m To update, run: \u001b[0m\u001b[32;49mpip install --upgrade pip\u001b[0m\n",
      "\n",
      "\u001b[1m[\u001b[0m\u001b[34;49mnotice\u001b[0m\u001b[1;39;49m]\u001b[0m\u001b[39;49m A new release of pip is available: \u001b[0m\u001b[31;49m25.2\u001b[0m\u001b[39;49m -> \u001b[0m\u001b[32;49m25.3\u001b[0m\n",
      "\u001b[1m[\u001b[0m\u001b[34;49mnotice\u001b[0m\u001b[1;39;49m]\u001b[0m\u001b[39;49m To update, run: \u001b[0m\u001b[32;49mpip install --upgrade pip\u001b[0m\n"
     ]
    },
    {
     "name": "stderr",
     "output_type": "stream",
     "text": [
      "/var/folders/66/qj0pgbn10_n7_txykj6jtj2c0000gn/T/ipykernel_84658/1826339983.py:25: MatplotlibDeprecationWarning: The seaborn styles shipped by Matplotlib are deprecated since 3.6, as they no longer correspond to the styles shipped by seaborn. However, they will remain available as 'seaborn-v0_8-<style>'. Alternatively, directly use the seaborn API instead.\n",
      "  plt.style.use('seaborn-deep')\n"
     ]
    }
   ],
   "source": [
    "# INSTALL & IMPORTS \n",
    "\n",
    "\n",
    "# Install essential NLP & Hugging Face libraries\n",
    "!pip install -q transformers datasets evaluate accelerate\n",
    "!pip install -q textblob unidecode langdetect\n",
    "\n",
    "\n",
    "# Core Libraries\n",
    "\n",
    "import os, re, string\n",
    "import numpy as np\n",
    "import pandas as pd\n",
    "from collections import Counter\n",
    "\n",
    "\n",
    "# Visualization\n",
    "\n",
    "import matplotlib.pyplot as plt\n",
    "import seaborn as sns\n",
    "import plotly.express as px\n",
    "import plotly.graph_objects as go\n",
    "import plotly.subplots as sp\n",
    "\n",
    "plt.style.use('seaborn-deep')\n",
    "sns.set_context('talk')\n",
    "\n",
    "\n",
    "# NLP & Text Processing\n",
    "\n",
    "import nltk\n",
    "nltk.download('punkt', quiet=True)\n",
    "nltk.download('stopwords', quiet=True)\n",
    "nltk.download('averaged_perceptron_tagger', quiet=True)\n",
    "nltk.download('wordnet', quiet=True)\n",
    "nltk.download('omw-1.4', quiet=True)\n",
    "\n",
    "from nltk.corpus import stopwords\n",
    "from nltk.tokenize import word_tokenize\n",
    "from textblob import TextBlob\n",
    "from langdetect import detect\n",
    "\n",
    "# Optional: emoji support\n",
    "try:\n",
    "    import emoji\n",
    "    HAS_EMOJI = True\n",
    "except Exception:\n",
    "    HAS_EMOJI = False\n",
    "\n",
    "\n",
    "# ML & Feature Extraction\n",
    "\n",
    "from sklearn.model_selection import train_test_split, StratifiedKFold\n",
    "from sklearn.metrics import f1_score\n",
    "from sklearn.feature_extraction.text import CountVectorizer, TfidfVectorizer\n",
    "\n",
    "\n",
    "# Deep Learning (Transformers)\n",
    "\n",
    "import torch\n",
    "import torch.nn.functional as F\n",
    "from torch.utils.data import Dataset, DataLoader\n",
    "from transformers import (\n",
    "    AutoTokenizer,\n",
    "    AutoModelForSequenceClassification,\n",
    "    get_linear_schedule_with_warmup\n",
    ")\n",
    "from torch.optim import AdamW\n",
    "\n",
    "\n",
    "# Gradient Boosting (LightGBM)\n",
    "\n",
    "import lightgbm as lgb\n",
    "from scipy.sparse import hstack, csr_matrix\n"
   ]
  },
  {
   "cell_type": "code",
   "execution_count": 2,
   "id": "9d3a89a0",
   "metadata": {
    "execution": {
     "iopub.execute_input": "2025-10-18T09:54:25.903671Z",
     "iopub.status.busy": "2025-10-18T09:54:25.902441Z",
     "iopub.status.idle": "2025-10-18T09:54:25.964491Z",
     "shell.execute_reply": "2025-10-18T09:54:25.963838Z"
    },
    "papermill": {
     "duration": 0.089225,
     "end_time": "2025-10-18T09:54:25.965625",
     "exception": false,
     "start_time": "2025-10-18T09:54:25.8764",
     "status": "completed"
    },
    "tags": []
   },
   "outputs": [
    {
     "name": "stdout",
     "output_type": "stream",
     "text": [
      "Torch version: 2.7.1\n",
      "CUDA available: False\n"
     ]
    }
   ],
   "source": [
    "# Quick checks you can add (optional):\n",
    "print(\"Torch version:\", torch.__version__)\n",
    "print(\"CUDA available:\", torch.cuda.is_available())"
   ]
  },
  {
   "cell_type": "code",
   "execution_count": 3,
   "id": "7e97d468",
   "metadata": {
    "execution": {
     "iopub.execute_input": "2025-10-18T09:54:26.067062Z",
     "iopub.status.busy": "2025-10-18T09:54:26.066836Z",
     "iopub.status.idle": "2025-10-18T09:54:26.13208Z",
     "shell.execute_reply": "2025-10-18T09:54:26.131268Z"
    },
    "papermill": {
     "duration": 0.092828,
     "end_time": "2025-10-18T09:54:26.133414",
     "exception": false,
     "start_time": "2025-10-18T09:54:26.040586",
     "status": "completed"
    },
    "tags": []
   },
   "outputs": [],
   "source": [
    "train_df = pd.read_csv(\"train.csv\")\n",
    "test_df  = pd.read_csv(\"test.csv\")"
   ]
  },
  {
   "cell_type": "code",
   "execution_count": 4,
   "id": "19a8948c",
   "metadata": {
    "execution": {
     "iopub.execute_input": "2025-10-18T09:54:26.34733Z",
     "iopub.status.busy": "2025-10-18T09:54:26.347049Z",
     "iopub.status.idle": "2025-10-18T09:54:26.373196Z",
     "shell.execute_reply": "2025-10-18T09:54:26.372274Z"
    },
    "papermill": {
     "duration": 0.054613,
     "end_time": "2025-10-18T09:54:26.374403",
     "exception": false,
     "start_time": "2025-10-18T09:54:26.31979",
     "status": "completed"
    },
    "tags": []
   },
   "outputs": [
    {
     "name": "stdout",
     "output_type": "stream",
     "text": [
      "Shape: (7613, 5)\n",
      "\n",
      "Columns and dtypes:\n",
      " id           int64\n",
      "keyword     object\n",
      "location    object\n",
      "text        object\n",
      "target       int64\n",
      "dtype: object\n",
      "\n",
      "Nulls per column:\n",
      " id             0\n",
      "keyword       61\n",
      "location    2533\n",
      "text           0\n",
      "target         0\n",
      "dtype: int64\n",
      "\n",
      "Unique text: 7503\n",
      "Duplicate rows (full): 0\n",
      "Duplicate text: 110\n",
      "\n",
      "Target value counts:\n",
      "target\n",
      "0    4342\n",
      "1    3271\n",
      "Name: count, dtype: int64\n"
     ]
    }
   ],
   "source": [
    "def quick_overview(df, text_col='text', target_col='target'):\n",
    "    print(\"Shape:\", df.shape)\n",
    "    print(\"\\nColumns and dtypes:\\n\", df.dtypes)\n",
    "    print(\"\\nNulls per column:\\n\", df.isnull().sum())\n",
    "    if text_col in df.columns:\n",
    "        print(f\"\\nUnique {text_col}: {df[text_col].nunique()}\")\n",
    "        print(f\"Duplicate rows (full): {df.duplicated().sum()}\")\n",
    "        print(f\"Duplicate {text_col}: {df[text_col].duplicated().sum()}\")\n",
    "    if target_col in df.columns:\n",
    "        print(f\"\\nTarget value counts:\\n{df[target_col].value_counts(dropna=False)}\")\n",
    "\n",
    "\n",
    "quick_overview(train_df, text_col='text', target_col='target')\n"
   ]
  },
  {
   "cell_type": "code",
   "execution_count": 5,
   "id": "952b831b",
   "metadata": {
    "execution": {
     "iopub.execute_input": "2025-10-18T09:54:26.425882Z",
     "iopub.status.busy": "2025-10-18T09:54:26.425379Z",
     "iopub.status.idle": "2025-10-18T09:54:27.809259Z",
     "shell.execute_reply": "2025-10-18T09:54:27.808494Z"
    },
    "papermill": {
     "duration": 1.410702,
     "end_time": "2025-10-18T09:54:27.810425",
     "exception": false,
     "start_time": "2025-10-18T09:54:26.399723",
     "status": "completed"
    },
    "tags": []
   },
   "outputs": [
    {
     "data": {
      "application/vnd.plotly.v1+json": {
       "config": {
        "plotlyServerURL": "https://plot.ly"
       },
       "data": [
        {
         "hovertemplate": "Target=%{marker.color}<br>Count=%{y}<br>percentage=%{text}<extra></extra>",
         "legendgroup": "",
         "marker": {
          "color": {
           "bdata": "AAE=",
           "dtype": "i1"
          },
          "coloraxis": "coloraxis",
          "pattern": {
           "shape": ""
          }
         },
         "name": "",
         "orientation": "v",
         "showlegend": false,
         "text": {
          "bdata": "pHA9CteDTEBcj8L1KHxFQA==",
          "dtype": "f8"
         },
         "textposition": "outside",
         "texttemplate": "%{text}%",
         "type": "bar",
         "x": {
          "bdata": "AAE=",
          "dtype": "i1"
         },
         "xaxis": "x",
         "y": {
          "bdata": "9hDHDA==",
          "dtype": "i2"
         },
         "yaxis": "y"
        }
       ],
       "layout": {
        "barmode": "relative",
        "coloraxis": {
         "colorbar": {
          "title": {
           "text": "Target"
          }
         },
         "colorscale": [
          [
           0,
           "rgb(176, 242, 188)"
          ],
          [
           0.16666666666666666,
           "rgb(137, 232, 172)"
          ],
          [
           0.3333333333333333,
           "rgb(103, 219, 165)"
          ],
          [
           0.5,
           "rgb(76, 200, 163)"
          ],
          [
           0.6666666666666666,
           "rgb(56, 178, 163)"
          ],
          [
           0.8333333333333334,
           "rgb(44, 152, 160)"
          ],
          [
           1,
           "rgb(37, 125, 152)"
          ]
         ]
        },
        "legend": {
         "tracegroupgap": 0
        },
        "showlegend": false,
        "template": {
         "data": {
          "bar": [
           {
            "error_x": {
             "color": "#2a3f5f"
            },
            "error_y": {
             "color": "#2a3f5f"
            },
            "marker": {
             "line": {
              "color": "white",
              "width": 0.5
             },
             "pattern": {
              "fillmode": "overlay",
              "size": 10,
              "solidity": 0.2
             }
            },
            "type": "bar"
           }
          ],
          "barpolar": [
           {
            "marker": {
             "line": {
              "color": "white",
              "width": 0.5
             },
             "pattern": {
              "fillmode": "overlay",
              "size": 10,
              "solidity": 0.2
             }
            },
            "type": "barpolar"
           }
          ],
          "carpet": [
           {
            "aaxis": {
             "endlinecolor": "#2a3f5f",
             "gridcolor": "#C8D4E3",
             "linecolor": "#C8D4E3",
             "minorgridcolor": "#C8D4E3",
             "startlinecolor": "#2a3f5f"
            },
            "baxis": {
             "endlinecolor": "#2a3f5f",
             "gridcolor": "#C8D4E3",
             "linecolor": "#C8D4E3",
             "minorgridcolor": "#C8D4E3",
             "startlinecolor": "#2a3f5f"
            },
            "type": "carpet"
           }
          ],
          "choropleth": [
           {
            "colorbar": {
             "outlinewidth": 0,
             "ticks": ""
            },
            "type": "choropleth"
           }
          ],
          "contour": [
           {
            "colorbar": {
             "outlinewidth": 0,
             "ticks": ""
            },
            "colorscale": [
             [
              0,
              "#0d0887"
             ],
             [
              0.1111111111111111,
              "#46039f"
             ],
             [
              0.2222222222222222,
              "#7201a8"
             ],
             [
              0.3333333333333333,
              "#9c179e"
             ],
             [
              0.4444444444444444,
              "#bd3786"
             ],
             [
              0.5555555555555556,
              "#d8576b"
             ],
             [
              0.6666666666666666,
              "#ed7953"
             ],
             [
              0.7777777777777778,
              "#fb9f3a"
             ],
             [
              0.8888888888888888,
              "#fdca26"
             ],
             [
              1,
              "#f0f921"
             ]
            ],
            "type": "contour"
           }
          ],
          "contourcarpet": [
           {
            "colorbar": {
             "outlinewidth": 0,
             "ticks": ""
            },
            "type": "contourcarpet"
           }
          ],
          "heatmap": [
           {
            "colorbar": {
             "outlinewidth": 0,
             "ticks": ""
            },
            "colorscale": [
             [
              0,
              "#0d0887"
             ],
             [
              0.1111111111111111,
              "#46039f"
             ],
             [
              0.2222222222222222,
              "#7201a8"
             ],
             [
              0.3333333333333333,
              "#9c179e"
             ],
             [
              0.4444444444444444,
              "#bd3786"
             ],
             [
              0.5555555555555556,
              "#d8576b"
             ],
             [
              0.6666666666666666,
              "#ed7953"
             ],
             [
              0.7777777777777778,
              "#fb9f3a"
             ],
             [
              0.8888888888888888,
              "#fdca26"
             ],
             [
              1,
              "#f0f921"
             ]
            ],
            "type": "heatmap"
           }
          ],
          "histogram": [
           {
            "marker": {
             "pattern": {
              "fillmode": "overlay",
              "size": 10,
              "solidity": 0.2
             }
            },
            "type": "histogram"
           }
          ],
          "histogram2d": [
           {
            "colorbar": {
             "outlinewidth": 0,
             "ticks": ""
            },
            "colorscale": [
             [
              0,
              "#0d0887"
             ],
             [
              0.1111111111111111,
              "#46039f"
             ],
             [
              0.2222222222222222,
              "#7201a8"
             ],
             [
              0.3333333333333333,
              "#9c179e"
             ],
             [
              0.4444444444444444,
              "#bd3786"
             ],
             [
              0.5555555555555556,
              "#d8576b"
             ],
             [
              0.6666666666666666,
              "#ed7953"
             ],
             [
              0.7777777777777778,
              "#fb9f3a"
             ],
             [
              0.8888888888888888,
              "#fdca26"
             ],
             [
              1,
              "#f0f921"
             ]
            ],
            "type": "histogram2d"
           }
          ],
          "histogram2dcontour": [
           {
            "colorbar": {
             "outlinewidth": 0,
             "ticks": ""
            },
            "colorscale": [
             [
              0,
              "#0d0887"
             ],
             [
              0.1111111111111111,
              "#46039f"
             ],
             [
              0.2222222222222222,
              "#7201a8"
             ],
             [
              0.3333333333333333,
              "#9c179e"
             ],
             [
              0.4444444444444444,
              "#bd3786"
             ],
             [
              0.5555555555555556,
              "#d8576b"
             ],
             [
              0.6666666666666666,
              "#ed7953"
             ],
             [
              0.7777777777777778,
              "#fb9f3a"
             ],
             [
              0.8888888888888888,
              "#fdca26"
             ],
             [
              1,
              "#f0f921"
             ]
            ],
            "type": "histogram2dcontour"
           }
          ],
          "mesh3d": [
           {
            "colorbar": {
             "outlinewidth": 0,
             "ticks": ""
            },
            "type": "mesh3d"
           }
          ],
          "parcoords": [
           {
            "line": {
             "colorbar": {
              "outlinewidth": 0,
              "ticks": ""
             }
            },
            "type": "parcoords"
           }
          ],
          "pie": [
           {
            "automargin": true,
            "type": "pie"
           }
          ],
          "scatter": [
           {
            "fillpattern": {
             "fillmode": "overlay",
             "size": 10,
             "solidity": 0.2
            },
            "type": "scatter"
           }
          ],
          "scatter3d": [
           {
            "line": {
             "colorbar": {
              "outlinewidth": 0,
              "ticks": ""
             }
            },
            "marker": {
             "colorbar": {
              "outlinewidth": 0,
              "ticks": ""
             }
            },
            "type": "scatter3d"
           }
          ],
          "scattercarpet": [
           {
            "marker": {
             "colorbar": {
              "outlinewidth": 0,
              "ticks": ""
             }
            },
            "type": "scattercarpet"
           }
          ],
          "scattergeo": [
           {
            "marker": {
             "colorbar": {
              "outlinewidth": 0,
              "ticks": ""
             }
            },
            "type": "scattergeo"
           }
          ],
          "scattergl": [
           {
            "marker": {
             "colorbar": {
              "outlinewidth": 0,
              "ticks": ""
             }
            },
            "type": "scattergl"
           }
          ],
          "scattermap": [
           {
            "marker": {
             "colorbar": {
              "outlinewidth": 0,
              "ticks": ""
             }
            },
            "type": "scattermap"
           }
          ],
          "scattermapbox": [
           {
            "marker": {
             "colorbar": {
              "outlinewidth": 0,
              "ticks": ""
             }
            },
            "type": "scattermapbox"
           }
          ],
          "scatterpolar": [
           {
            "marker": {
             "colorbar": {
              "outlinewidth": 0,
              "ticks": ""
             }
            },
            "type": "scatterpolar"
           }
          ],
          "scatterpolargl": [
           {
            "marker": {
             "colorbar": {
              "outlinewidth": 0,
              "ticks": ""
             }
            },
            "type": "scatterpolargl"
           }
          ],
          "scatterternary": [
           {
            "marker": {
             "colorbar": {
              "outlinewidth": 0,
              "ticks": ""
             }
            },
            "type": "scatterternary"
           }
          ],
          "surface": [
           {
            "colorbar": {
             "outlinewidth": 0,
             "ticks": ""
            },
            "colorscale": [
             [
              0,
              "#0d0887"
             ],
             [
              0.1111111111111111,
              "#46039f"
             ],
             [
              0.2222222222222222,
              "#7201a8"
             ],
             [
              0.3333333333333333,
              "#9c179e"
             ],
             [
              0.4444444444444444,
              "#bd3786"
             ],
             [
              0.5555555555555556,
              "#d8576b"
             ],
             [
              0.6666666666666666,
              "#ed7953"
             ],
             [
              0.7777777777777778,
              "#fb9f3a"
             ],
             [
              0.8888888888888888,
              "#fdca26"
             ],
             [
              1,
              "#f0f921"
             ]
            ],
            "type": "surface"
           }
          ],
          "table": [
           {
            "cells": {
             "fill": {
              "color": "#EBF0F8"
             },
             "line": {
              "color": "white"
             }
            },
            "header": {
             "fill": {
              "color": "#C8D4E3"
             },
             "line": {
              "color": "white"
             }
            },
            "type": "table"
           }
          ]
         },
         "layout": {
          "annotationdefaults": {
           "arrowcolor": "#2a3f5f",
           "arrowhead": 0,
           "arrowwidth": 1
          },
          "autotypenumbers": "strict",
          "coloraxis": {
           "colorbar": {
            "outlinewidth": 0,
            "ticks": ""
           }
          },
          "colorscale": {
           "diverging": [
            [
             0,
             "#8e0152"
            ],
            [
             0.1,
             "#c51b7d"
            ],
            [
             0.2,
             "#de77ae"
            ],
            [
             0.3,
             "#f1b6da"
            ],
            [
             0.4,
             "#fde0ef"
            ],
            [
             0.5,
             "#f7f7f7"
            ],
            [
             0.6,
             "#e6f5d0"
            ],
            [
             0.7,
             "#b8e186"
            ],
            [
             0.8,
             "#7fbc41"
            ],
            [
             0.9,
             "#4d9221"
            ],
            [
             1,
             "#276419"
            ]
           ],
           "sequential": [
            [
             0,
             "#0d0887"
            ],
            [
             0.1111111111111111,
             "#46039f"
            ],
            [
             0.2222222222222222,
             "#7201a8"
            ],
            [
             0.3333333333333333,
             "#9c179e"
            ],
            [
             0.4444444444444444,
             "#bd3786"
            ],
            [
             0.5555555555555556,
             "#d8576b"
            ],
            [
             0.6666666666666666,
             "#ed7953"
            ],
            [
             0.7777777777777778,
             "#fb9f3a"
            ],
            [
             0.8888888888888888,
             "#fdca26"
            ],
            [
             1,
             "#f0f921"
            ]
           ],
           "sequentialminus": [
            [
             0,
             "#0d0887"
            ],
            [
             0.1111111111111111,
             "#46039f"
            ],
            [
             0.2222222222222222,
             "#7201a8"
            ],
            [
             0.3333333333333333,
             "#9c179e"
            ],
            [
             0.4444444444444444,
             "#bd3786"
            ],
            [
             0.5555555555555556,
             "#d8576b"
            ],
            [
             0.6666666666666666,
             "#ed7953"
            ],
            [
             0.7777777777777778,
             "#fb9f3a"
            ],
            [
             0.8888888888888888,
             "#fdca26"
            ],
            [
             1,
             "#f0f921"
            ]
           ]
          },
          "colorway": [
           "#636efa",
           "#EF553B",
           "#00cc96",
           "#ab63fa",
           "#FFA15A",
           "#19d3f3",
           "#FF6692",
           "#B6E880",
           "#FF97FF",
           "#FECB52"
          ],
          "font": {
           "color": "#2a3f5f"
          },
          "geo": {
           "bgcolor": "white",
           "lakecolor": "white",
           "landcolor": "white",
           "showlakes": true,
           "showland": true,
           "subunitcolor": "#C8D4E3"
          },
          "hoverlabel": {
           "align": "left"
          },
          "hovermode": "closest",
          "mapbox": {
           "style": "light"
          },
          "paper_bgcolor": "white",
          "plot_bgcolor": "white",
          "polar": {
           "angularaxis": {
            "gridcolor": "#EBF0F8",
            "linecolor": "#EBF0F8",
            "ticks": ""
           },
           "bgcolor": "white",
           "radialaxis": {
            "gridcolor": "#EBF0F8",
            "linecolor": "#EBF0F8",
            "ticks": ""
           }
          },
          "scene": {
           "xaxis": {
            "backgroundcolor": "white",
            "gridcolor": "#DFE8F3",
            "gridwidth": 2,
            "linecolor": "#EBF0F8",
            "showbackground": true,
            "ticks": "",
            "zerolinecolor": "#EBF0F8"
           },
           "yaxis": {
            "backgroundcolor": "white",
            "gridcolor": "#DFE8F3",
            "gridwidth": 2,
            "linecolor": "#EBF0F8",
            "showbackground": true,
            "ticks": "",
            "zerolinecolor": "#EBF0F8"
           },
           "zaxis": {
            "backgroundcolor": "white",
            "gridcolor": "#DFE8F3",
            "gridwidth": 2,
            "linecolor": "#EBF0F8",
            "showbackground": true,
            "ticks": "",
            "zerolinecolor": "#EBF0F8"
           }
          },
          "shapedefaults": {
           "line": {
            "color": "#2a3f5f"
           }
          },
          "ternary": {
           "aaxis": {
            "gridcolor": "#DFE8F3",
            "linecolor": "#A2B1C6",
            "ticks": ""
           },
           "baxis": {
            "gridcolor": "#DFE8F3",
            "linecolor": "#A2B1C6",
            "ticks": ""
           },
           "bgcolor": "white",
           "caxis": {
            "gridcolor": "#DFE8F3",
            "linecolor": "#A2B1C6",
            "ticks": ""
           }
          },
          "title": {
           "x": 0.05
          },
          "xaxis": {
           "automargin": true,
           "gridcolor": "#EBF0F8",
           "linecolor": "#EBF0F8",
           "ticks": "",
           "title": {
            "standoff": 15
           },
           "zerolinecolor": "#EBF0F8",
           "zerolinewidth": 2
          },
          "yaxis": {
           "automargin": true,
           "gridcolor": "#EBF0F8",
           "linecolor": "#EBF0F8",
           "ticks": "",
           "title": {
            "standoff": 15
           },
           "zerolinecolor": "#EBF0F8",
           "zerolinewidth": 2
          }
         }
        },
        "title": {
         "text": "Target Distribution"
        },
        "uniformtext": {
         "minsize": 10,
         "mode": "hide"
        },
        "xaxis": {
         "anchor": "y",
         "domain": [
          0,
          1
         ],
         "title": {
          "text": "Target (0 = Not Disaster, 1 = Disaster)"
         }
        },
        "yaxis": {
         "anchor": "x",
         "domain": [
          0,
          1
         ],
         "title": {
          "text": "Count"
         }
        }
       }
      }
     },
     "metadata": {},
     "output_type": "display_data"
    },
    {
     "name": "stdout",
     "output_type": "stream",
     "text": [
      "target\n",
      "0    0.57034\n",
      "1    0.42966\n",
      "Name: proportion, dtype: float64\n"
     ]
    }
   ],
   "source": [
    "def plot_target_dist_interactive(df, target_col='target'):\n",
    "    counts = df[target_col].value_counts().reset_index()\n",
    "    counts.columns = [target_col, 'count']\n",
    "    counts['percentage'] = (counts['count'] / counts['count'].sum() * 100).round(2)\n",
    "    \n",
    "    fig = px.bar(\n",
    "        counts, \n",
    "        x=target_col, \n",
    "        y='count', \n",
    "        text='percentage',\n",
    "        color=target_col,\n",
    "        color_continuous_scale='Tealgrn',\n",
    "        title='Target Distribution',\n",
    "        labels={target_col: 'Target', 'count': 'Count'},\n",
    "    )\n",
    "    \n",
    "    fig.update_traces(\n",
    "        texttemplate='%{text}%',\n",
    "        textposition='outside'\n",
    "    )\n",
    "    \n",
    "    fig.update_layout(\n",
    "        uniformtext_minsize=10,\n",
    "        uniformtext_mode='hide',\n",
    "        yaxis=dict(title='Count'),\n",
    "        xaxis=dict(title='Target (0 = Not Disaster, 1 = Disaster)'),\n",
    "        showlegend=False,\n",
    "        template='plotly_white'\n",
    "    )\n",
    "    \n",
    "    fig.show()\n",
    "    \n",
    "    # Print proportions for reference\n",
    "    print(df[target_col].value_counts(normalize=True).rename('proportion'))\n",
    "\n",
    "plot_target_dist_interactive(train_df, target_col='target')\n"
   ]
  },
  {
   "cell_type": "code",
   "execution_count": 6,
   "id": "99cd8f0f",
   "metadata": {
    "execution": {
     "iopub.execute_input": "2025-10-18T09:54:27.979935Z",
     "iopub.status.busy": "2025-10-18T09:54:27.979159Z",
     "iopub.status.idle": "2025-10-18T09:54:27.989973Z",
     "shell.execute_reply": "2025-10-18T09:54:27.989336Z"
    },
    "papermill": {
     "duration": 0.041797,
     "end_time": "2025-10-18T09:54:27.991085",
     "exception": false,
     "start_time": "2025-10-18T09:54:27.949288",
     "status": "completed"
    },
    "tags": []
   },
   "outputs": [
    {
     "name": "stdout",
     "output_type": "stream",
     "text": [
      "Empty text count: 0\n"
     ]
    }
   ],
   "source": [
    "def show_empty_texts(df, text_col='text', n=10):\n",
    "    is_empty = df[text_col].isnull() | (df[text_col].astype(str).str.strip()=='')\n",
    "    print(\"Empty text count:\", is_empty.sum())\n",
    "    if is_empty.sum() > 0:\n",
    "        display(df[is_empty].head(n))\n",
    "\n",
    "show_empty_texts(train_df, text_col='text')\n"
   ]
  },
  {
   "cell_type": "code",
   "execution_count": 7,
   "id": "88e05d42",
   "metadata": {
    "execution": {
     "iopub.execute_input": "2025-10-18T09:54:28.156283Z",
     "iopub.status.busy": "2025-10-18T09:54:28.155757Z",
     "iopub.status.idle": "2025-10-18T09:54:28.259515Z",
     "shell.execute_reply": "2025-10-18T09:54:28.258795Z"
    },
    "papermill": {
     "duration": 0.131255,
     "end_time": "2025-10-18T09:54:28.260791",
     "exception": false,
     "start_time": "2025-10-18T09:54:28.129536",
     "status": "completed"
    },
    "tags": []
   },
   "outputs": [
    {
     "data": {
      "text/html": [
       "<div>\n",
       "<style scoped>\n",
       "    .dataframe tbody tr th:only-of-type {\n",
       "        vertical-align: middle;\n",
       "    }\n",
       "\n",
       "    .dataframe tbody tr th {\n",
       "        vertical-align: top;\n",
       "    }\n",
       "\n",
       "    .dataframe thead th {\n",
       "        text-align: right;\n",
       "    }\n",
       "</style>\n",
       "<table border=\"1\" class=\"dataframe\">\n",
       "  <thead>\n",
       "    <tr style=\"text-align: right;\">\n",
       "      <th></th>\n",
       "      <th>count</th>\n",
       "      <th>mean</th>\n",
       "      <th>std</th>\n",
       "      <th>min</th>\n",
       "      <th>25%</th>\n",
       "      <th>50%</th>\n",
       "      <th>75%</th>\n",
       "      <th>90%</th>\n",
       "      <th>95%</th>\n",
       "      <th>max</th>\n",
       "    </tr>\n",
       "  </thead>\n",
       "  <tbody>\n",
       "    <tr>\n",
       "      <th>char_len</th>\n",
       "      <td>7613.0</td>\n",
       "      <td>101.037436</td>\n",
       "      <td>33.781325</td>\n",
       "      <td>7.0</td>\n",
       "      <td>78.0</td>\n",
       "      <td>107.0</td>\n",
       "      <td>133.0</td>\n",
       "      <td>138.0</td>\n",
       "      <td>140.0</td>\n",
       "      <td>157.0</td>\n",
       "    </tr>\n",
       "    <tr>\n",
       "      <th>word_len</th>\n",
       "      <td>7613.0</td>\n",
       "      <td>14.903586</td>\n",
       "      <td>5.732604</td>\n",
       "      <td>1.0</td>\n",
       "      <td>11.0</td>\n",
       "      <td>15.0</td>\n",
       "      <td>19.0</td>\n",
       "      <td>22.0</td>\n",
       "      <td>24.0</td>\n",
       "      <td>31.0</td>\n",
       "    </tr>\n",
       "  </tbody>\n",
       "</table>\n",
       "</div>"
      ],
      "text/plain": [
       "           count        mean        std  min   25%    50%    75%    90%  \\\n",
       "char_len  7613.0  101.037436  33.781325  7.0  78.0  107.0  133.0  138.0   \n",
       "word_len  7613.0   14.903586   5.732604  1.0  11.0   15.0   19.0   22.0   \n",
       "\n",
       "            95%    max  \n",
       "char_len  140.0  157.0  \n",
       "word_len   24.0   31.0  "
      ]
     },
     "metadata": {},
     "output_type": "display_data"
    },
    {
     "data": {
      "application/vnd.plotly.v1+json": {
       "config": {
        "plotlyServerURL": "https://plot.ly"
       },
       "data": [
        {
         "marker": {
          "color": "steelblue"
         },
         "name": "Character Length",
         "nbinsx": 60,
         "opacity": 0.8,
         "type": "histogram",
         "x": {
          "bdata": "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",
          "dtype": "i2"
         },
         "xaxis": "x",
         "yaxis": "y"
        },
        {
         "marker": {
          "color": "seagreen"
         },
         "name": "Word Count",
         "nbinsx": 60,
         "opacity": 0.8,
         "type": "histogram",
         "x": {
          "bdata": "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",
          "dtype": "i1"
         },
         "xaxis": "x2",
         "yaxis": "y2"
        }
       ],
       "layout": {
        "annotations": [
         {
          "font": {
           "size": 16
          },
          "showarrow": false,
          "text": "Character Length Distribution",
          "x": 0.225,
          "xanchor": "center",
          "xref": "paper",
          "y": 1,
          "yanchor": "bottom",
          "yref": "paper"
         },
         {
          "font": {
           "size": 16
          },
          "showarrow": false,
          "text": "Word Count Distribution",
          "x": 0.775,
          "xanchor": "center",
          "xref": "paper",
          "y": 1,
          "yanchor": "bottom",
          "yref": "paper"
         }
        ],
        "bargap": 0.05,
        "height": 450,
        "showlegend": false,
        "template": {
         "data": {
          "bar": [
           {
            "error_x": {
             "color": "#2a3f5f"
            },
            "error_y": {
             "color": "#2a3f5f"
            },
            "marker": {
             "line": {
              "color": "white",
              "width": 0.5
             },
             "pattern": {
              "fillmode": "overlay",
              "size": 10,
              "solidity": 0.2
             }
            },
            "type": "bar"
           }
          ],
          "barpolar": [
           {
            "marker": {
             "line": {
              "color": "white",
              "width": 0.5
             },
             "pattern": {
              "fillmode": "overlay",
              "size": 10,
              "solidity": 0.2
             }
            },
            "type": "barpolar"
           }
          ],
          "carpet": [
           {
            "aaxis": {
             "endlinecolor": "#2a3f5f",
             "gridcolor": "#C8D4E3",
             "linecolor": "#C8D4E3",
             "minorgridcolor": "#C8D4E3",
             "startlinecolor": "#2a3f5f"
            },
            "baxis": {
             "endlinecolor": "#2a3f5f",
             "gridcolor": "#C8D4E3",
             "linecolor": "#C8D4E3",
             "minorgridcolor": "#C8D4E3",
             "startlinecolor": "#2a3f5f"
            },
            "type": "carpet"
           }
          ],
          "choropleth": [
           {
            "colorbar": {
             "outlinewidth": 0,
             "ticks": ""
            },
            "type": "choropleth"
           }
          ],
          "contour": [
           {
            "colorbar": {
             "outlinewidth": 0,
             "ticks": ""
            },
            "colorscale": [
             [
              0,
              "#0d0887"
             ],
             [
              0.1111111111111111,
              "#46039f"
             ],
             [
              0.2222222222222222,
              "#7201a8"
             ],
             [
              0.3333333333333333,
              "#9c179e"
             ],
             [
              0.4444444444444444,
              "#bd3786"
             ],
             [
              0.5555555555555556,
              "#d8576b"
             ],
             [
              0.6666666666666666,
              "#ed7953"
             ],
             [
              0.7777777777777778,
              "#fb9f3a"
             ],
             [
              0.8888888888888888,
              "#fdca26"
             ],
             [
              1,
              "#f0f921"
             ]
            ],
            "type": "contour"
           }
          ],
          "contourcarpet": [
           {
            "colorbar": {
             "outlinewidth": 0,
             "ticks": ""
            },
            "type": "contourcarpet"
           }
          ],
          "heatmap": [
           {
            "colorbar": {
             "outlinewidth": 0,
             "ticks": ""
            },
            "colorscale": [
             [
              0,
              "#0d0887"
             ],
             [
              0.1111111111111111,
              "#46039f"
             ],
             [
              0.2222222222222222,
              "#7201a8"
             ],
             [
              0.3333333333333333,
              "#9c179e"
             ],
             [
              0.4444444444444444,
              "#bd3786"
             ],
             [
              0.5555555555555556,
              "#d8576b"
             ],
             [
              0.6666666666666666,
              "#ed7953"
             ],
             [
              0.7777777777777778,
              "#fb9f3a"
             ],
             [
              0.8888888888888888,
              "#fdca26"
             ],
             [
              1,
              "#f0f921"
             ]
            ],
            "type": "heatmap"
           }
          ],
          "histogram": [
           {
            "marker": {
             "pattern": {
              "fillmode": "overlay",
              "size": 10,
              "solidity": 0.2
             }
            },
            "type": "histogram"
           }
          ],
          "histogram2d": [
           {
            "colorbar": {
             "outlinewidth": 0,
             "ticks": ""
            },
            "colorscale": [
             [
              0,
              "#0d0887"
             ],
             [
              0.1111111111111111,
              "#46039f"
             ],
             [
              0.2222222222222222,
              "#7201a8"
             ],
             [
              0.3333333333333333,
              "#9c179e"
             ],
             [
              0.4444444444444444,
              "#bd3786"
             ],
             [
              0.5555555555555556,
              "#d8576b"
             ],
             [
              0.6666666666666666,
              "#ed7953"
             ],
             [
              0.7777777777777778,
              "#fb9f3a"
             ],
             [
              0.8888888888888888,
              "#fdca26"
             ],
             [
              1,
              "#f0f921"
             ]
            ],
            "type": "histogram2d"
           }
          ],
          "histogram2dcontour": [
           {
            "colorbar": {
             "outlinewidth": 0,
             "ticks": ""
            },
            "colorscale": [
             [
              0,
              "#0d0887"
             ],
             [
              0.1111111111111111,
              "#46039f"
             ],
             [
              0.2222222222222222,
              "#7201a8"
             ],
             [
              0.3333333333333333,
              "#9c179e"
             ],
             [
              0.4444444444444444,
              "#bd3786"
             ],
             [
              0.5555555555555556,
              "#d8576b"
             ],
             [
              0.6666666666666666,
              "#ed7953"
             ],
             [
              0.7777777777777778,
              "#fb9f3a"
             ],
             [
              0.8888888888888888,
              "#fdca26"
             ],
             [
              1,
              "#f0f921"
             ]
            ],
            "type": "histogram2dcontour"
           }
          ],
          "mesh3d": [
           {
            "colorbar": {
             "outlinewidth": 0,
             "ticks": ""
            },
            "type": "mesh3d"
           }
          ],
          "parcoords": [
           {
            "line": {
             "colorbar": {
              "outlinewidth": 0,
              "ticks": ""
             }
            },
            "type": "parcoords"
           }
          ],
          "pie": [
           {
            "automargin": true,
            "type": "pie"
           }
          ],
          "scatter": [
           {
            "fillpattern": {
             "fillmode": "overlay",
             "size": 10,
             "solidity": 0.2
            },
            "type": "scatter"
           }
          ],
          "scatter3d": [
           {
            "line": {
             "colorbar": {
              "outlinewidth": 0,
              "ticks": ""
             }
            },
            "marker": {
             "colorbar": {
              "outlinewidth": 0,
              "ticks": ""
             }
            },
            "type": "scatter3d"
           }
          ],
          "scattercarpet": [
           {
            "marker": {
             "colorbar": {
              "outlinewidth": 0,
              "ticks": ""
             }
            },
            "type": "scattercarpet"
           }
          ],
          "scattergeo": [
           {
            "marker": {
             "colorbar": {
              "outlinewidth": 0,
              "ticks": ""
             }
            },
            "type": "scattergeo"
           }
          ],
          "scattergl": [
           {
            "marker": {
             "colorbar": {
              "outlinewidth": 0,
              "ticks": ""
             }
            },
            "type": "scattergl"
           }
          ],
          "scattermap": [
           {
            "marker": {
             "colorbar": {
              "outlinewidth": 0,
              "ticks": ""
             }
            },
            "type": "scattermap"
           }
          ],
          "scattermapbox": [
           {
            "marker": {
             "colorbar": {
              "outlinewidth": 0,
              "ticks": ""
             }
            },
            "type": "scattermapbox"
           }
          ],
          "scatterpolar": [
           {
            "marker": {
             "colorbar": {
              "outlinewidth": 0,
              "ticks": ""
             }
            },
            "type": "scatterpolar"
           }
          ],
          "scatterpolargl": [
           {
            "marker": {
             "colorbar": {
              "outlinewidth": 0,
              "ticks": ""
             }
            },
            "type": "scatterpolargl"
           }
          ],
          "scatterternary": [
           {
            "marker": {
             "colorbar": {
              "outlinewidth": 0,
              "ticks": ""
             }
            },
            "type": "scatterternary"
           }
          ],
          "surface": [
           {
            "colorbar": {
             "outlinewidth": 0,
             "ticks": ""
            },
            "colorscale": [
             [
              0,
              "#0d0887"
             ],
             [
              0.1111111111111111,
              "#46039f"
             ],
             [
              0.2222222222222222,
              "#7201a8"
             ],
             [
              0.3333333333333333,
              "#9c179e"
             ],
             [
              0.4444444444444444,
              "#bd3786"
             ],
             [
              0.5555555555555556,
              "#d8576b"
             ],
             [
              0.6666666666666666,
              "#ed7953"
             ],
             [
              0.7777777777777778,
              "#fb9f3a"
             ],
             [
              0.8888888888888888,
              "#fdca26"
             ],
             [
              1,
              "#f0f921"
             ]
            ],
            "type": "surface"
           }
          ],
          "table": [
           {
            "cells": {
             "fill": {
              "color": "#EBF0F8"
             },
             "line": {
              "color": "white"
             }
            },
            "header": {
             "fill": {
              "color": "#C8D4E3"
             },
             "line": {
              "color": "white"
             }
            },
            "type": "table"
           }
          ]
         },
         "layout": {
          "annotationdefaults": {
           "arrowcolor": "#2a3f5f",
           "arrowhead": 0,
           "arrowwidth": 1
          },
          "autotypenumbers": "strict",
          "coloraxis": {
           "colorbar": {
            "outlinewidth": 0,
            "ticks": ""
           }
          },
          "colorscale": {
           "diverging": [
            [
             0,
             "#8e0152"
            ],
            [
             0.1,
             "#c51b7d"
            ],
            [
             0.2,
             "#de77ae"
            ],
            [
             0.3,
             "#f1b6da"
            ],
            [
             0.4,
             "#fde0ef"
            ],
            [
             0.5,
             "#f7f7f7"
            ],
            [
             0.6,
             "#e6f5d0"
            ],
            [
             0.7,
             "#b8e186"
            ],
            [
             0.8,
             "#7fbc41"
            ],
            [
             0.9,
             "#4d9221"
            ],
            [
             1,
             "#276419"
            ]
           ],
           "sequential": [
            [
             0,
             "#0d0887"
            ],
            [
             0.1111111111111111,
             "#46039f"
            ],
            [
             0.2222222222222222,
             "#7201a8"
            ],
            [
             0.3333333333333333,
             "#9c179e"
            ],
            [
             0.4444444444444444,
             "#bd3786"
            ],
            [
             0.5555555555555556,
             "#d8576b"
            ],
            [
             0.6666666666666666,
             "#ed7953"
            ],
            [
             0.7777777777777778,
             "#fb9f3a"
            ],
            [
             0.8888888888888888,
             "#fdca26"
            ],
            [
             1,
             "#f0f921"
            ]
           ],
           "sequentialminus": [
            [
             0,
             "#0d0887"
            ],
            [
             0.1111111111111111,
             "#46039f"
            ],
            [
             0.2222222222222222,
             "#7201a8"
            ],
            [
             0.3333333333333333,
             "#9c179e"
            ],
            [
             0.4444444444444444,
             "#bd3786"
            ],
            [
             0.5555555555555556,
             "#d8576b"
            ],
            [
             0.6666666666666666,
             "#ed7953"
            ],
            [
             0.7777777777777778,
             "#fb9f3a"
            ],
            [
             0.8888888888888888,
             "#fdca26"
            ],
            [
             1,
             "#f0f921"
            ]
           ]
          },
          "colorway": [
           "#636efa",
           "#EF553B",
           "#00cc96",
           "#ab63fa",
           "#FFA15A",
           "#19d3f3",
           "#FF6692",
           "#B6E880",
           "#FF97FF",
           "#FECB52"
          ],
          "font": {
           "color": "#2a3f5f"
          },
          "geo": {
           "bgcolor": "white",
           "lakecolor": "white",
           "landcolor": "white",
           "showlakes": true,
           "showland": true,
           "subunitcolor": "#C8D4E3"
          },
          "hoverlabel": {
           "align": "left"
          },
          "hovermode": "closest",
          "mapbox": {
           "style": "light"
          },
          "paper_bgcolor": "white",
          "plot_bgcolor": "white",
          "polar": {
           "angularaxis": {
            "gridcolor": "#EBF0F8",
            "linecolor": "#EBF0F8",
            "ticks": ""
           },
           "bgcolor": "white",
           "radialaxis": {
            "gridcolor": "#EBF0F8",
            "linecolor": "#EBF0F8",
            "ticks": ""
           }
          },
          "scene": {
           "xaxis": {
            "backgroundcolor": "white",
            "gridcolor": "#DFE8F3",
            "gridwidth": 2,
            "linecolor": "#EBF0F8",
            "showbackground": true,
            "ticks": "",
            "zerolinecolor": "#EBF0F8"
           },
           "yaxis": {
            "backgroundcolor": "white",
            "gridcolor": "#DFE8F3",
            "gridwidth": 2,
            "linecolor": "#EBF0F8",
            "showbackground": true,
            "ticks": "",
            "zerolinecolor": "#EBF0F8"
           },
           "zaxis": {
            "backgroundcolor": "white",
            "gridcolor": "#DFE8F3",
            "gridwidth": 2,
            "linecolor": "#EBF0F8",
            "showbackground": true,
            "ticks": "",
            "zerolinecolor": "#EBF0F8"
           }
          },
          "shapedefaults": {
           "line": {
            "color": "#2a3f5f"
           }
          },
          "ternary": {
           "aaxis": {
            "gridcolor": "#DFE8F3",
            "linecolor": "#A2B1C6",
            "ticks": ""
           },
           "baxis": {
            "gridcolor": "#DFE8F3",
            "linecolor": "#A2B1C6",
            "ticks": ""
           },
           "bgcolor": "white",
           "caxis": {
            "gridcolor": "#DFE8F3",
            "linecolor": "#A2B1C6",
            "ticks": ""
           }
          },
          "title": {
           "x": 0.05
          },
          "xaxis": {
           "automargin": true,
           "gridcolor": "#EBF0F8",
           "linecolor": "#EBF0F8",
           "ticks": "",
           "title": {
            "standoff": 15
           },
           "zerolinecolor": "#EBF0F8",
           "zerolinewidth": 2
          },
          "yaxis": {
           "automargin": true,
           "gridcolor": "#EBF0F8",
           "linecolor": "#EBF0F8",
           "ticks": "",
           "title": {
            "standoff": 15
           },
           "zerolinecolor": "#EBF0F8",
           "zerolinewidth": 2
          }
         }
        },
        "title": {
         "text": "Tweet Length Analysis (Characters & Words)"
        },
        "xaxis": {
         "anchor": "y",
         "domain": [
          0,
          0.45
         ],
         "title": {
          "text": "char_len"
         }
        },
        "xaxis2": {
         "anchor": "y2",
         "domain": [
          0.55,
          1
         ],
         "title": {
          "text": "word_len"
         }
        },
        "yaxis": {
         "anchor": "x",
         "domain": [
          0,
          1
         ],
         "title": {
          "text": "Count"
         }
        },
        "yaxis2": {
         "anchor": "x2",
         "domain": [
          0,
          1
         ],
         "title": {
          "text": "Count"
         }
        }
       }
      }
     },
     "metadata": {},
     "output_type": "display_data"
    }
   ],
   "source": [
    "def text_length_stats_interactive(df, text_col='text'):\n",
    "    df = df.copy()\n",
    "    df['char_len'] = df[text_col].astype(str).apply(len)\n",
    "    df['word_len'] = df[text_col].astype(str).apply(lambda x: len(x.split()))\n",
    "\n",
    "    # Show percentiles summary\n",
    "    display(df[['char_len','word_len']].describe(percentiles=[0.25,0.5,0.75,0.9,0.95]).T)\n",
    "\n",
    "    # Create interactive subplots\n",
    "    fig = sp.make_subplots(rows=1, cols=2, subplot_titles=('Character Length Distribution', 'Word Count Distribution'))\n",
    "\n",
    "    fig.add_trace(\n",
    "        go.Histogram(x=df['char_len'], nbinsx=60, name='Character Length', marker_color='steelblue', opacity=0.8),\n",
    "        row=1, col=1\n",
    "    )\n",
    "    fig.add_trace(\n",
    "        go.Histogram(x=df['word_len'], nbinsx=60, name='Word Count', marker_color='seagreen', opacity=0.8),\n",
    "        row=1, col=2\n",
    "    )\n",
    "\n",
    "    fig.update_layout(\n",
    "        title_text=\"Tweet Length Analysis (Characters & Words)\",\n",
    "        template='plotly_white',\n",
    "        bargap=0.05,\n",
    "        showlegend=False,\n",
    "        height=450,\n",
    "    )\n",
    "    fig.update_xaxes(title_text=\"char_len\", row=1, col=1)\n",
    "    fig.update_xaxes(title_text=\"word_len\", row=1, col=2)\n",
    "    fig.update_yaxes(title_text=\"Count\", row=1, col=1)\n",
    "    fig.update_yaxes(title_text=\"Count\", row=1, col=2)\n",
    "\n",
    "    fig.show()\n",
    "\n",
    "    return df\n",
    "\n",
    "len_df = text_length_stats_interactive(train_df, text_col='text')\n"
   ]
  },
  {
   "cell_type": "code",
   "execution_count": 8,
   "id": "9aab2739",
   "metadata": {
    "execution": {
     "iopub.execute_input": "2025-10-18T09:54:28.438016Z",
     "iopub.status.busy": "2025-10-18T09:54:28.437722Z",
     "iopub.status.idle": "2025-10-18T09:54:28.470825Z",
     "shell.execute_reply": "2025-10-18T09:54:28.470194Z"
    },
    "papermill": {
     "duration": 0.062378,
     "end_time": "2025-10-18T09:54:28.472049",
     "exception": false,
     "start_time": "2025-10-18T09:54:28.409671",
     "status": "completed"
    },
    "tags": []
   },
   "outputs": [
    {
     "name": "stdout",
     "output_type": "stream",
     "text": [
      "\n",
      "--- Target = 0 | shortest 3 ---\n"
     ]
    },
    {
     "data": {
      "text/html": [
       "<div>\n",
       "<style scoped>\n",
       "    .dataframe tbody tr th:only-of-type {\n",
       "        vertical-align: middle;\n",
       "    }\n",
       "\n",
       "    .dataframe tbody tr th {\n",
       "        vertical-align: top;\n",
       "    }\n",
       "\n",
       "    .dataframe thead th {\n",
       "        text-align: right;\n",
       "    }\n",
       "</style>\n",
       "<table border=\"1\" class=\"dataframe\">\n",
       "  <thead>\n",
       "    <tr style=\"text-align: right;\">\n",
       "      <th></th>\n",
       "      <th>text</th>\n",
       "      <th>char_len</th>\n",
       "    </tr>\n",
       "  </thead>\n",
       "  <tbody>\n",
       "    <tr>\n",
       "      <th>4890</th>\n",
       "      <td>Bad day</td>\n",
       "      <td>7</td>\n",
       "    </tr>\n",
       "    <tr>\n",
       "      <th>5115</th>\n",
       "      <td>Err:509</td>\n",
       "      <td>7</td>\n",
       "    </tr>\n",
       "    <tr>\n",
       "      <th>1882</th>\n",
       "      <td>Crushed</td>\n",
       "      <td>7</td>\n",
       "    </tr>\n",
       "  </tbody>\n",
       "</table>\n",
       "</div>"
      ],
      "text/plain": [
       "         text  char_len\n",
       "4890  Bad day         7\n",
       "5115  Err:509         7\n",
       "1882  Crushed         7"
      ]
     },
     "metadata": {},
     "output_type": "display_data"
    },
    {
     "name": "stdout",
     "output_type": "stream",
     "text": [
      "\n",
      "--- Target = 0 | longest 3 ---\n"
     ]
    },
    {
     "data": {
      "text/html": [
       "<div>\n",
       "<style scoped>\n",
       "    .dataframe tbody tr th:only-of-type {\n",
       "        vertical-align: middle;\n",
       "    }\n",
       "\n",
       "    .dataframe tbody tr th {\n",
       "        vertical-align: top;\n",
       "    }\n",
       "\n",
       "    .dataframe thead th {\n",
       "        text-align: right;\n",
       "    }\n",
       "</style>\n",
       "<table border=\"1\" class=\"dataframe\">\n",
       "  <thead>\n",
       "    <tr style=\"text-align: right;\">\n",
       "      <th></th>\n",
       "      <th>text</th>\n",
       "      <th>char_len</th>\n",
       "    </tr>\n",
       "  </thead>\n",
       "  <tbody>\n",
       "    <tr>\n",
       "      <th>1270</th>\n",
       "      <td>when you're taking a shower and someone flushe...</td>\n",
       "      <td>157</td>\n",
       "    </tr>\n",
       "    <tr>\n",
       "      <th>4801</th>\n",
       "      <td>It's was about 2:30 in the morning&amp;amp;I went ...</td>\n",
       "      <td>152</td>\n",
       "    </tr>\n",
       "    <tr>\n",
       "      <th>261</th>\n",
       "      <td>@Barbi_Twins We need help-horses will die! Ple...</td>\n",
       "      <td>148</td>\n",
       "    </tr>\n",
       "  </tbody>\n",
       "</table>\n",
       "</div>"
      ],
      "text/plain": [
       "                                                   text  char_len\n",
       "1270  when you're taking a shower and someone flushe...       157\n",
       "4801  It's was about 2:30 in the morning&amp;I went ...       152\n",
       "261   @Barbi_Twins We need help-horses will die! Ple...       148"
      ]
     },
     "metadata": {},
     "output_type": "display_data"
    },
    {
     "name": "stdout",
     "output_type": "stream",
     "text": [
      "\n",
      "--- Target = 1 | shortest 3 ---\n"
     ]
    },
    {
     "data": {
      "text/html": [
       "<div>\n",
       "<style scoped>\n",
       "    .dataframe tbody tr th:only-of-type {\n",
       "        vertical-align: middle;\n",
       "    }\n",
       "\n",
       "    .dataframe tbody tr th {\n",
       "        vertical-align: top;\n",
       "    }\n",
       "\n",
       "    .dataframe thead th {\n",
       "        text-align: right;\n",
       "    }\n",
       "</style>\n",
       "<table border=\"1\" class=\"dataframe\">\n",
       "  <thead>\n",
       "    <tr style=\"text-align: right;\">\n",
       "      <th></th>\n",
       "      <th>text</th>\n",
       "      <th>char_len</th>\n",
       "    </tr>\n",
       "  </thead>\n",
       "  <tbody>\n",
       "    <tr>\n",
       "      <th>7589</th>\n",
       "      <td>Omg earthquake</td>\n",
       "      <td>14</td>\n",
       "    </tr>\n",
       "    <tr>\n",
       "      <th>4504</th>\n",
       "      <td>hurricane?? sick!</td>\n",
       "      <td>17</td>\n",
       "    </tr>\n",
       "    <tr>\n",
       "      <th>4894</th>\n",
       "      <td>I see a massacre!!</td>\n",
       "      <td>18</td>\n",
       "    </tr>\n",
       "  </tbody>\n",
       "</table>\n",
       "</div>"
      ],
      "text/plain": [
       "                    text  char_len\n",
       "7589      Omg earthquake        14\n",
       "4504   hurricane?? sick!        17\n",
       "4894  I see a massacre!!        18"
      ]
     },
     "metadata": {},
     "output_type": "display_data"
    },
    {
     "name": "stdout",
     "output_type": "stream",
     "text": [
      "\n",
      "--- Target = 1 | longest 3 ---\n"
     ]
    },
    {
     "data": {
      "text/html": [
       "<div>\n",
       "<style scoped>\n",
       "    .dataframe tbody tr th:only-of-type {\n",
       "        vertical-align: middle;\n",
       "    }\n",
       "\n",
       "    .dataframe tbody tr th {\n",
       "        vertical-align: top;\n",
       "    }\n",
       "\n",
       "    .dataframe thead th {\n",
       "        text-align: right;\n",
       "    }\n",
       "</style>\n",
       "<table border=\"1\" class=\"dataframe\">\n",
       "  <thead>\n",
       "    <tr style=\"text-align: right;\">\n",
       "      <th></th>\n",
       "      <th>text</th>\n",
       "      <th>char_len</th>\n",
       "    </tr>\n",
       "  </thead>\n",
       "  <tbody>\n",
       "    <tr>\n",
       "      <th>614</th>\n",
       "      <td>@CAgov If 90BLKs&amp;amp;8WHTs colluded 2 take WHT...</td>\n",
       "      <td>151</td>\n",
       "    </tr>\n",
       "    <tr>\n",
       "      <th>633</th>\n",
       "      <td>@HowardU If 90BLKs&amp;amp;8WHTs colluded 2 take W...</td>\n",
       "      <td>150</td>\n",
       "    </tr>\n",
       "    <tr>\n",
       "      <th>635</th>\n",
       "      <td>@cspanwj If 90BLKs&amp;amp;8WHTs colluded 2 take W...</td>\n",
       "      <td>150</td>\n",
       "    </tr>\n",
       "  </tbody>\n",
       "</table>\n",
       "</div>"
      ],
      "text/plain": [
       "                                                  text  char_len\n",
       "614  @CAgov If 90BLKs&amp;8WHTs colluded 2 take WHT...       151\n",
       "633  @HowardU If 90BLKs&amp;8WHTs colluded 2 take W...       150\n",
       "635  @cspanwj If 90BLKs&amp;8WHTs colluded 2 take W...       150"
      ]
     },
     "metadata": {},
     "output_type": "display_data"
    }
   ],
   "source": [
    "def show_short_long_examples(df, text_col='text', target_col='target', n=3):\n",
    "    for t in sorted(df[target_col].unique()):\n",
    "        sub = df[df[target_col]==t].copy()\n",
    "        sub['char_len'] = sub[text_col].astype(str).apply(len)\n",
    "        print(f\"\\n--- Target = {t} | shortest {n} ---\")\n",
    "        display(sub.sort_values('char_len').head(n)[[text_col,'char_len']])\n",
    "        print(f\"\\n--- Target = {t} | longest {n} ---\")\n",
    "        display(sub.sort_values('char_len', ascending=False).head(n)[[text_col,'char_len']])\n",
    "\n",
    "show_short_long_examples(train_df, text_col='text', target_col='target', n=3)\n"
   ]
  },
  {
   "cell_type": "code",
   "execution_count": 9,
   "id": "b494795a",
   "metadata": {
    "execution": {
     "iopub.execute_input": "2025-10-18T09:54:28.640603Z",
     "iopub.status.busy": "2025-10-18T09:54:28.640282Z",
     "iopub.status.idle": "2025-10-18T09:54:28.738252Z",
     "shell.execute_reply": "2025-10-18T09:54:28.737585Z"
    },
    "papermill": {
     "duration": 0.126735,
     "end_time": "2025-10-18T09:54:28.739412",
     "exception": false,
     "start_time": "2025-10-18T09:54:28.612677",
     "status": "completed"
    },
    "tags": []
   },
   "outputs": [
    {
     "data": {
      "text/html": [
       "<div>\n",
       "<style scoped>\n",
       "    .dataframe tbody tr th:only-of-type {\n",
       "        vertical-align: middle;\n",
       "    }\n",
       "\n",
       "    .dataframe tbody tr th {\n",
       "        vertical-align: top;\n",
       "    }\n",
       "\n",
       "    .dataframe thead th {\n",
       "        text-align: right;\n",
       "    }\n",
       "</style>\n",
       "<table border=\"1\" class=\"dataframe\">\n",
       "  <thead>\n",
       "    <tr style=\"text-align: right;\">\n",
       "      <th></th>\n",
       "      <th>n_urls</th>\n",
       "      <th>n_mentions</th>\n",
       "      <th>n_hashtags</th>\n",
       "      <th>n_numbers</th>\n",
       "      <th>n_exclaims</th>\n",
       "      <th>n_questions</th>\n",
       "    </tr>\n",
       "    <tr>\n",
       "      <th>target</th>\n",
       "      <th></th>\n",
       "      <th></th>\n",
       "      <th></th>\n",
       "      <th></th>\n",
       "      <th></th>\n",
       "      <th></th>\n",
       "    </tr>\n",
       "  </thead>\n",
       "  <tbody>\n",
       "    <tr>\n",
       "      <th>0</th>\n",
       "      <td>0.507600</td>\n",
       "      <td>0.420313</td>\n",
       "      <td>0.388761</td>\n",
       "      <td>1.096039</td>\n",
       "      <td>0.150622</td>\n",
       "      <td>0.205896</td>\n",
       "    </tr>\n",
       "    <tr>\n",
       "      <th>1</th>\n",
       "      <td>0.770101</td>\n",
       "      <td>0.272088</td>\n",
       "      <td>0.501987</td>\n",
       "      <td>1.728829</td>\n",
       "      <td>0.076735</td>\n",
       "      <td>0.110364</td>\n",
       "    </tr>\n",
       "  </tbody>\n",
       "</table>\n",
       "</div>"
      ],
      "text/plain": [
       "          n_urls  n_mentions  n_hashtags  n_numbers  n_exclaims  n_questions\n",
       "target                                                                      \n",
       "0       0.507600    0.420313    0.388761   1.096039    0.150622     0.205896\n",
       "1       0.770101    0.272088    0.501987   1.728829    0.076735     0.110364"
      ]
     },
     "metadata": {},
     "output_type": "display_data"
    }
   ],
   "source": [
    "url_pattern = r'http\\S+|www\\.\\S+'\n",
    "mention_pattern = r'@\\w+'\n",
    "hashtag_pattern = r'#\\w+'\n",
    "number_pattern = r'\\d+'\n",
    "\n",
    "def add_text_features(df, text_col='text'):\n",
    "    df = df.copy()\n",
    "    df['text_clean'] = df[text_col].astype(str)\n",
    "    df['has_url'] = df['text_clean'].str.contains(url_pattern).fillna(False)\n",
    "    df['n_urls'] = df['text_clean'].str.count(url_pattern)\n",
    "    df['n_mentions'] = df['text_clean'].str.count(mention_pattern)\n",
    "    df['n_hashtags'] = df['text_clean'].str.count(hashtag_pattern)\n",
    "    df['n_numbers'] = df['text_clean'].str.count(number_pattern)\n",
    "    df['n_exclaims'] = df['text_clean'].str.count(r'!+')\n",
    "    df['n_questions'] = df['text_clean'].str.count(r'\\?+')\n",
    "    return df\n",
    "\n",
    "feat_df = add_text_features(train_df, text_col='text')\n",
    "\n",
    "if 'target' in feat_df.columns:\n",
    "    display(feat_df.groupby('target')[['n_urls','n_mentions','n_hashtags','n_numbers','n_exclaims','n_questions']].mean())\n"
   ]
  },
  {
   "cell_type": "code",
   "execution_count": 10,
   "id": "e77efbb7",
   "metadata": {
    "execution": {
     "iopub.execute_input": "2025-10-18T09:54:28.914416Z",
     "iopub.status.busy": "2025-10-18T09:54:28.913773Z",
     "iopub.status.idle": "2025-10-18T09:54:29.194741Z",
     "shell.execute_reply": "2025-10-18T09:54:29.193603Z"
    },
    "papermill": {
     "duration": 0.311077,
     "end_time": "2025-10-18T09:54:29.196333",
     "exception": false,
     "start_time": "2025-10-18T09:54:28.885256",
     "status": "completed"
    },
    "tags": []
   },
   "outputs": [
    {
     "name": "stdout",
     "output_type": "stream",
     "text": [
      "\n",
      "Top TF-IDF for class 0:\n",
      "http — 0.0404\n",
      "https — 0.0158\n",
      "like — 0.0134\n",
      "just — 0.0124\n",
      "amp — 0.0096\n",
      "don — 0.0083\n",
      "new — 0.0079\n",
      "love — 0.0070\n",
      "û_ — 0.0068\n",
      "body — 0.0065\n",
      "know — 0.0060\n",
      "got — 0.0059\n",
      "day — 0.0056\n",
      "people — 0.0056\n",
      "time — 0.0055\n",
      "going — 0.0053\n",
      "let — 0.0052\n",
      "video — 0.0050\n",
      "think — 0.0048\n",
      "good — 0.0048\n",
      "\n",
      "Top TF-IDF for class 1:\n",
      "http — 0.0579\n",
      "https — 0.0090\n",
      "û_ — 0.0085\n",
      "disaster — 0.0082\n",
      "news — 0.0081\n",
      "california — 0.0080\n",
      "amp — 0.0076\n",
      "storm — 0.0075\n",
      "suicide — 0.0070\n",
      "buildings — 0.0070\n",
      "police — 0.0068\n",
      "hiroshima — 0.0068\n",
      "fires — 0.0068\n",
      "like — 0.0064\n",
      "people — 0.0064\n",
      "û_ http — 0.0061\n",
      "killed — 0.0060\n",
      "crash — 0.0059\n",
      "burning — 0.0057\n",
      "just — 0.0057\n"
     ]
    }
   ],
   "source": [
    "\n",
    "def top_tfidf_by_class(df, text_col='text', target_col='target', n=20):\n",
    "    tfidf = TfidfVectorizer(ngram_range=(1,2), stop_words='english', min_df=3)\n",
    "    X = tfidf.fit_transform(df[text_col].astype(str))\n",
    "    terms = np.array(tfidf.get_feature_names_out())\n",
    "    for t in sorted(df[target_col].unique()):\n",
    "        idx = (df[target_col]==t).values\n",
    "        mean_tfidf = X[idx].mean(axis=0).A1\n",
    "        top_idx = mean_tfidf.argsort()[::-1][:n]\n",
    "        print(f\"\\nTop TF-IDF for class {t}:\")\n",
    "        for term, val in zip(terms[top_idx], mean_tfidf[top_idx]):\n",
    "            print(f\"{term} — {val:.4f}\")\n",
    "\n",
    "top_tfidf_by_class(train_df, text_col='text', target_col='target', n=20)\n"
   ]
  },
  {
   "cell_type": "code",
   "execution_count": 11,
   "id": "8b684227",
   "metadata": {
    "execution": {
     "iopub.execute_input": "2025-10-18T09:54:29.373405Z",
     "iopub.status.busy": "2025-10-18T09:54:29.373129Z",
     "iopub.status.idle": "2025-10-18T09:54:51.727905Z",
     "shell.execute_reply": "2025-10-18T09:54:51.726743Z"
    },
    "papermill": {
     "duration": 22.384832,
     "end_time": "2025-10-18T09:54:51.729225",
     "exception": false,
     "start_time": "2025-10-18T09:54:29.344393",
     "status": "completed"
    },
    "tags": []
   },
   "outputs": [
    {
     "name": "stdout",
     "output_type": "stream",
     "text": [
      "lang\n",
      "en    7310\n",
      "de      58\n",
      "ca      25\n",
      "it      21\n",
      "da      20\n",
      "sv      19\n",
      "no      19\n",
      "af      19\n",
      "fr      17\n",
      "nl      14\n",
      "et      14\n",
      "tl      10\n",
      "id       9\n",
      "sl       9\n",
      "cy       8\n",
      "ro       7\n",
      "es       6\n",
      "vi       5\n",
      "pl       4\n",
      "so       4\n",
      "Name: count, dtype: int64\n"
     ]
    }
   ],
   "source": [
    "# Import and define detection function\n",
    "from langdetect import detect, DetectorFactory\n",
    "DetectorFactory.seed = 0  # for reproducibility\n",
    "\n",
    "def detect_lang(text):\n",
    "    try:\n",
    "        return detect(text)\n",
    "    except:\n",
    "        return 'error'\n",
    "\n",
    "# Apply to the dataframe\n",
    "train_df['lang'] = train_df['text'].astype(str).apply(detect_lang)\n",
    "\n",
    "# Show top 20 detected languages\n",
    "print(train_df['lang'].value_counts().head(20))\n"
   ]
  },
  {
   "cell_type": "code",
   "execution_count": 12,
   "id": "71b98644",
   "metadata": {
    "execution": {
     "iopub.execute_input": "2025-10-18T09:54:51.786717Z",
     "iopub.status.busy": "2025-10-18T09:54:51.786432Z",
     "iopub.status.idle": "2025-10-18T09:54:52.428499Z",
     "shell.execute_reply": "2025-10-18T09:54:52.427816Z"
    },
    "papermill": {
     "duration": 0.672121,
     "end_time": "2025-10-18T09:54:52.430078",
     "exception": false,
     "start_time": "2025-10-18T09:54:51.757957",
     "status": "completed"
    },
    "tags": []
   },
   "outputs": [
    {
     "name": "stdout",
     "output_type": "stream",
     "text": [
      "Non-English tweets count by language:\n",
      "lang\n",
      "de    58\n",
      "ca    25\n",
      "it    21\n",
      "da    20\n",
      "sv    19\n",
      "af    19\n",
      "no    19\n",
      "fr    17\n",
      "et    14\n",
      "nl    14\n",
      "tl    10\n",
      "id     9\n",
      "sl     9\n",
      "cy     8\n",
      "ro     7\n",
      "es     6\n",
      "vi     5\n",
      "so     4\n",
      "pl     4\n",
      "pt     3\n",
      "fi     3\n",
      "hr     2\n",
      "sw     2\n",
      "tr     2\n",
      "sq     2\n",
      "sk     1\n",
      "Name: count, dtype: int64\n"
     ]
    },
    {
     "name": "stderr",
     "output_type": "stream",
     "text": [
      "/var/folders/66/qj0pgbn10_n7_txykj6jtj2c0000gn/T/ipykernel_84658/4212742145.py:16: FutureWarning:\n",
      "\n",
      "\n",
      "\n",
      "Passing `palette` without assigning `hue` is deprecated and will be removed in v0.14.0. Assign the `x` variable to `hue` and set `legend=False` for the same effect.\n",
      "\n",
      "\n"
     ]
    },
    {
     "data": {
      "image/png": "[encoded data removed]",
      "text/plain": [
       "<Figure size 1000x500 with 1 Axes>"
      ]
     },
     "metadata": {},
     "output_type": "display_data"
    },
    {
     "name": "stdout",
     "output_type": "stream",
     "text": [
      "\n",
      "Class distribution per non-English language:\n",
      "target   0   1\n",
      "lang          \n",
      "af      16   3\n",
      "ca       9  16\n",
      "cy       5   3\n",
      "da      16   4\n",
      "de      44  14\n",
      "es       4   2\n",
      "et      11   3\n",
      "fi       3   0\n",
      "fr      12   5\n",
      "hr       2   0\n",
      "id       9   0\n",
      "it      17   4\n",
      "nl      13   1\n",
      "no      15   4\n",
      "pl       4   0\n",
      "pt       2   1\n",
      "ro       3   4\n",
      "sk       1   0\n",
      "sl       3   6\n",
      "so       4   0\n",
      "sq       1   1\n",
      "sv      15   4\n",
      "sw       1   1\n",
      "tl       8   2\n",
      "tr       2   0\n",
      "vi       2   3\n"
     ]
    },
    {
     "data": {
      "image/png": "[encoded data removed]",
      "text/plain": [
       "<Figure size 1000x500 with 1 Axes>"
      ]
     },
     "metadata": {},
     "output_type": "display_data"
    }
   ],
   "source": [
    "# Non-English tweets\n",
    "non_en_df = train_df[train_df['lang'] != 'en']\n",
    "\n",
    "if non_en_df.empty:\n",
    "        print(\"All tweets are English. No non-English tweets to analyze.\")\n",
    "else:\n",
    "        # Distribution languages\n",
    "        print(\"Non-English tweets count by language:\")\n",
    "        print(non_en_df['lang'].value_counts())\n",
    "\n",
    "        # Bar chart of language\n",
    "        import matplotlib.pyplot as plt\n",
    "        import seaborn as sns\n",
    "\n",
    "        plt.figure(figsize=(10,5))\n",
    "        sns.countplot(data=non_en_df, x='lang', order=non_en_df['lang'].value_counts().index, palette='coolwarm')\n",
    "        plt.title(\"Distribution of Non-English Tweets by Language\")\n",
    "        plt.ylabel(\"Number of Tweets\")\n",
    "        plt.xlabel(\"Language\")\n",
    "        plt.show()\n",
    "\n",
    "        # Checking classes in non-English\n",
    "        lang_class_counts = non_en_df.groupby(['lang','target']).size().unstack(fill_value=0)\n",
    "        print(\"\\nClass distribution per non-English language:\")\n",
    "        print(lang_class_counts)\n",
    "\n",
    "        # Stacked bar chart for classes per language\n",
    "        lang_class_counts.plot(kind='bar', stacked=True, figsize=(10,5), colormap='Set2')\n",
    "        plt.title(\"Class Distribution (0 vs 1) by Non-English Language\")\n",
    "        plt.ylabel(\"Number of Tweets\")\n",
    "        plt.xlabel(\"Language\")\n",
    "        plt.show()\n"
   ]
  },
  {
   "cell_type": "code",
   "execution_count": 13,
   "id": "911d93c7",
   "metadata": {
    "execution": {
     "iopub.execute_input": "2025-10-18T09:54:52.54913Z",
     "iopub.status.busy": "2025-10-18T09:54:52.548412Z",
     "iopub.status.idle": "2025-10-18T09:54:52.557216Z",
     "shell.execute_reply": "2025-10-18T09:54:52.556651Z"
    },
    "papermill": {
     "duration": 0.039888,
     "end_time": "2025-10-18T09:54:52.558322",
     "exception": false,
     "start_time": "2025-10-18T09:54:52.518434",
     "status": "completed"
    },
    "tags": []
   },
   "outputs": [],
   "source": [
    "#  Config & Seed\n",
    "\n",
    "MODEL_NAME = \"vinai/bertweet-base\"\n",
    "MAX_LEN = 128\n",
    "BATCH_SIZE = 16\n",
    "EPOCHS = 3\n",
    "LR = 2e-5\n",
    "N_SPLITS = 5\n",
    "SEED = 42\n",
    "\n",
    "device = torch.device(\"cuda\" if torch.cuda.is_available() else \"cpu\")\n",
    "\n",
    "def set_seed(seed=SEED):\n",
    "    np.random.seed(seed)\n",
    "    torch.manual_seed(seed)\n",
    "    if torch.cuda.is_available():\n",
    "        torch.cuda.manual_seed_all(seed)\n",
    "set_seed()\n"
   ]
  },
  {
   "cell_type": "code",
   "execution_count": 14,
   "id": "a5a4c641",
   "metadata": {
    "execution": {
     "iopub.execute_input": "2025-10-18T09:54:52.676292Z",
     "iopub.status.busy": "2025-10-18T09:54:52.676026Z",
     "iopub.status.idle": "2025-10-18T09:54:52.829514Z",
     "shell.execute_reply": "2025-10-18T09:54:52.828902Z"
    },
    "papermill": {
     "duration": 0.184976,
     "end_time": "2025-10-18T09:54:52.83095",
     "exception": false,
     "start_time": "2025-10-18T09:54:52.645974",
     "status": "completed"
    },
    "tags": []
   },
   "outputs": [],
   "source": [
    "# Load & Clean Data\n",
    "\n",
    "\n",
    "train_df = pd.read_csv(\"train.csv\").fillna(\"\")\n",
    "test_df  = pd.read_csv(\"test.csv\").fillna(\"\")\n",
    "\n",
    "def clean_text(text):\n",
    "    if not isinstance(text, str): return \"\"\n",
    "    # Remove URLs\n",
    "    text = re.sub(r'https?://\\S+|www\\.\\S+', '', text)\n",
    "    # Remove simple HTML tags\n",
    "    text = re.sub(r'<.*?>', '', text)\n",
    "    # Standardize user mentions so model sees a mention token, not many unique usernames\n",
    "    text = re.sub(r'@\\w+', '@USER', text)\n",
    "    # Remove digits (optional; keeps tokens more general)\n",
    "    text = re.sub(r'\\d+', '', text)\n",
    "    # Collapse multiple spaces and strip\n",
    "    text = re.sub(r'\\s+', ' ', text).strip()\n",
    "    return text\n",
    "\n",
    "train_df[\"clean_text\"] = train_df[\"text\"].apply(clean_text)\n",
    "test_df[\"clean_text\"]  = test_df[\"text\"].apply(clean_text)\n"
   ]
  },
  {
   "cell_type": "code",
   "execution_count": 15,
   "id": "dee32a96",
   "metadata": {
    "execution": {
     "iopub.execute_input": "2025-10-18T09:54:52.893262Z",
     "iopub.status.busy": "2025-10-18T09:54:52.892536Z",
     "iopub.status.idle": "2025-10-18T09:54:52.906325Z",
     "shell.execute_reply": "2025-10-18T09:54:52.905411Z"
    },
    "papermill": {
     "duration": 0.046004,
     "end_time": "2025-10-18T09:54:52.907554",
     "exception": false,
     "start_time": "2025-10-18T09:54:52.86155",
     "status": "completed"
    },
    "tags": []
   },
   "outputs": [
    {
     "name": "stdout",
     "output_type": "stream",
     "text": [
      "Train shape: (7613, 6)\n",
      "Test shape: (3263, 5)\n"
     ]
    },
    {
     "data": {
      "text/html": [
       "<div>\n",
       "<style scoped>\n",
       "    .dataframe tbody tr th:only-of-type {\n",
       "        vertical-align: middle;\n",
       "    }\n",
       "\n",
       "    .dataframe tbody tr th {\n",
       "        vertical-align: top;\n",
       "    }\n",
       "\n",
       "    .dataframe thead th {\n",
       "        text-align: right;\n",
       "    }\n",
       "</style>\n",
       "<table border=\"1\" class=\"dataframe\">\n",
       "  <thead>\n",
       "    <tr style=\"text-align: right;\">\n",
       "      <th></th>\n",
       "      <th>id</th>\n",
       "      <th>text</th>\n",
       "      <th>clean_text</th>\n",
       "      <th>location</th>\n",
       "      <th>keyword</th>\n",
       "      <th>target</th>\n",
       "    </tr>\n",
       "  </thead>\n",
       "  <tbody>\n",
       "    <tr>\n",
       "      <th>0</th>\n",
       "      <td>1</td>\n",
       "      <td>Our Deeds are the Reason of this #earthquake M...</td>\n",
       "      <td>Our Deeds are the Reason of this #earthquake M...</td>\n",
       "      <td></td>\n",
       "      <td></td>\n",
       "      <td>1</td>\n",
       "    </tr>\n",
       "    <tr>\n",
       "      <th>1</th>\n",
       "      <td>4</td>\n",
       "      <td>Forest fire near La Ronge Sask. Canada</td>\n",
       "      <td>Forest fire near La Ronge Sask. Canada</td>\n",
       "      <td></td>\n",
       "      <td></td>\n",
       "      <td>1</td>\n",
       "    </tr>\n",
       "    <tr>\n",
       "      <th>2</th>\n",
       "      <td>5</td>\n",
       "      <td>All residents asked to 'shelter in place' are ...</td>\n",
       "      <td>All residents asked to 'shelter in place' are ...</td>\n",
       "      <td></td>\n",
       "      <td></td>\n",
       "      <td>1</td>\n",
       "    </tr>\n",
       "    <tr>\n",
       "      <th>3</th>\n",
       "      <td>6</td>\n",
       "      <td>13,000 people receive #wildfires evacuation or...</td>\n",
       "      <td>, people receive #wildfires evacuation orders ...</td>\n",
       "      <td></td>\n",
       "      <td></td>\n",
       "      <td>1</td>\n",
       "    </tr>\n",
       "    <tr>\n",
       "      <th>4</th>\n",
       "      <td>7</td>\n",
       "      <td>Just got sent this photo from Ruby #Alaska as ...</td>\n",
       "      <td>Just got sent this photo from Ruby #Alaska as ...</td>\n",
       "      <td></td>\n",
       "      <td></td>\n",
       "      <td>1</td>\n",
       "    </tr>\n",
       "    <tr>\n",
       "      <th>5</th>\n",
       "      <td>8</td>\n",
       "      <td>#RockyFire Update =&gt; California Hwy. 20 closed...</td>\n",
       "      <td>#RockyFire Update =&gt; California Hwy. closed in...</td>\n",
       "      <td></td>\n",
       "      <td></td>\n",
       "      <td>1</td>\n",
       "    </tr>\n",
       "  </tbody>\n",
       "</table>\n",
       "</div>"
      ],
      "text/plain": [
       "   id                                               text  \\\n",
       "0   1  Our Deeds are the Reason of this #earthquake M...   \n",
       "1   4             Forest fire near La Ronge Sask. Canada   \n",
       "2   5  All residents asked to 'shelter in place' are ...   \n",
       "3   6  13,000 people receive #wildfires evacuation or...   \n",
       "4   7  Just got sent this photo from Ruby #Alaska as ...   \n",
       "5   8  #RockyFire Update => California Hwy. 20 closed...   \n",
       "\n",
       "                                          clean_text location keyword  target  \n",
       "0  Our Deeds are the Reason of this #earthquake M...                        1  \n",
       "1             Forest fire near La Ronge Sask. Canada                        1  \n",
       "2  All residents asked to 'shelter in place' are ...                        1  \n",
       "3  , people receive #wildfires evacuation orders ...                        1  \n",
       "4  Just got sent this photo from Ruby #Alaska as ...                        1  \n",
       "5  #RockyFire Update => California Hwy. closed in...                        1  "
      ]
     },
     "metadata": {},
     "output_type": "display_data"
    },
    {
     "name": "stdout",
     "output_type": "stream",
     "text": [
      "RAW: So you have a new weapon that can cause un-imaginable destruction.\n",
      "CLEAN: So you have a new weapon that can cause un-imaginable destruction.\n",
      "TARGET: 1\n",
      "--------------------------------------------------------------------------------\n",
      "RAW: The f$&amp;@ing things I do for #GISHWHES Just got soaked in a deluge going for pads and tampons. Thx @mishacollins @/@\n",
      "CLEAN: The f$&amp;@USER things I do for #GISHWHES Just got soaked in a deluge going for pads and tampons. Thx @USER @/@\n",
      "TARGET: 0\n",
      "--------------------------------------------------------------------------------\n",
      "RAW: DT @georgegalloway: RT @Galloway4Mayor: ÛÏThe CoL police can catch a pickpocket in Liverpool Stree... http://t.co/vXIn1gOq4Q\n",
      "CLEAN: DT @USER: RT @USER: ÛÏThe CoL police can catch a pickpocket in Liverpool Stree...\n",
      "TARGET: 1\n",
      "--------------------------------------------------------------------------------\n",
      "RAW: Aftershock back to school kick off was great. I want to thank everyone for making it possible. What a great night.\n",
      "CLEAN: Aftershock back to school kick off was great. I want to thank everyone for making it possible. What a great night.\n",
      "TARGET: 0\n",
      "--------------------------------------------------------------------------------\n",
      "RAW: in response to trauma Children of Addicts develop a defensive self - one that decreases vulnerability. (3\n",
      "CLEAN: in response to trauma Children of Addicts develop a defensive self - one that decreases vulnerability. (\n",
      "TARGET: 0\n",
      "--------------------------------------------------------------------------------\n",
      "RAW: @Calum5SOS you look like you got caught in a rainstorm this is amazing and disgusting at the same time\n",
      "CLEAN: @USER you look like you got caught in a rainstorm this is amazing and disgusting at the same time\n",
      "TARGET: 0\n",
      "--------------------------------------------------------------------------------\n"
     ]
    }
   ],
   "source": [
    "print(\"Train shape:\", train_df.shape)\n",
    "print(\"Test shape:\", test_df.shape)\n",
    "display(train_df.head(6)[['id','text','clean_text','location','keyword','target']])\n",
    "# show a few random examples of cleaned vs raw\n",
    "for i,row in train_df.sample(6, random_state=42).iterrows():\n",
    "    print(\"RAW:\", row['text'])\n",
    "    print(\"CLEAN:\", row['clean_text'])\n",
    "    print(\"TARGET:\", row.get('target','-'))\n",
    "    print('-'*80)\n"
   ]
  },
  {
   "cell_type": "code",
   "execution_count": 16,
   "id": "97de48e7",
   "metadata": {
    "execution": {
     "iopub.execute_input": "2025-10-18T09:54:53.0261Z",
     "iopub.status.busy": "2025-10-18T09:54:53.025846Z",
     "iopub.status.idle": "2025-10-18T09:54:53.031154Z",
     "shell.execute_reply": "2025-10-18T09:54:53.030449Z"
    },
    "papermill": {
     "duration": 0.036242,
     "end_time": "2025-10-18T09:54:53.032355",
     "exception": false,
     "start_time": "2025-10-18T09:54:52.996113",
     "status": "completed"
    },
    "tags": []
   },
   "outputs": [],
   "source": [
    "# 6) Torch Dataset\n",
    "\n",
    "class TweetDataset(Dataset):\n",
    "    def __init__(self, texts, targets, tokenizer, max_len):\n",
    "        self.texts, self.targets, self.tokenizer, self.max_len = texts, targets, tokenizer, max_len\n",
    "    def __len__(self): return len(self.texts)\n",
    "    def __getitem__(self, idx):\n",
    "        text, target = str(self.texts[idx]), self.targets[idx]\n",
    "        encoding = self.tokenizer.encode_plus(\n",
    "            text, add_special_tokens=True, max_length=self.max_len,\n",
    "            padding=\"max_length\", truncation=True,\n",
    "            return_attention_mask=True, return_tensors=\"pt\"\n",
    "        )\n",
    "        return {\n",
    "            \"input_ids\": encoding[\"input_ids\"].flatten(),\n",
    "            \"attention_mask\": encoding[\"attention_mask\"].flatten(),\n",
    "            \"targets\": torch.tensor(target, dtype=torch.long)\n",
    "        }\n"
   ]
  },
  {
   "cell_type": "markdown",
   "id": "d4c19789",
   "metadata": {
    "papermill": {
     "duration": 0.029229,
     "end_time": "2025-10-18T09:54:53.091191",
     "exception": false,
     "start_time": "2025-10-18T09:54:53.061962",
     "status": "completed"
    },
    "tags": []
   },
   "source": [
    "Tip:\n",
    "If you see many tweets with token length > MAX_LEN, consider increasing it or summarizing tweets—watch GPU memory."
   ]
  },
  {
   "cell_type": "code",
   "execution_count": 17,
   "id": "c678bde5",
   "metadata": {
    "execution": {
     "iopub.execute_input": "2025-10-18T09:54:53.209097Z",
     "iopub.status.busy": "2025-10-18T09:54:53.208559Z",
     "iopub.status.idle": "2025-10-18T09:54:53.215695Z",
     "shell.execute_reply": "2025-10-18T09:54:53.214943Z"
    },
    "papermill": {
     "duration": 0.038832,
     "end_time": "2025-10-18T09:54:53.216796",
     "exception": false,
     "start_time": "2025-10-18T09:54:53.177964",
     "status": "completed"
    },
    "tags": []
   },
   "outputs": [],
   "source": [
    "def train_epoch(model, loader, loss_fn, optimizer, scheduler):\n",
    "    model.train()\n",
    "    losses = []\n",
    "    for batch in loader:\n",
    "        input_ids = batch[\"input_ids\"].to(device)\n",
    "        attn = batch[\"attention_mask\"].to(device)\n",
    "        targets = batch[\"targets\"].to(device)\n",
    "\n",
    "        outputs = model(input_ids=input_ids, attention_mask=attn)\n",
    "        loss = loss_fn(outputs.logits, targets)\n",
    "        losses.append(loss.item())\n",
    "\n",
    "        loss.backward()\n",
    "        torch.nn.utils.clip_grad_norm_(model.parameters(), 1.0)\n",
    "        optimizer.step()\n",
    "        scheduler.step()\n",
    "        optimizer.zero_grad()\n",
    "    return np.mean(losses)\n",
    "\n",
    "def eval_model(model, loader):\n",
    "    model.eval()\n",
    "    preds, actuals, logits_list = [], [], []\n",
    "    with torch.no_grad():\n",
    "        for batch in loader:\n",
    "            input_ids = batch[\"input_ids\"].to(device)\n",
    "            attn = batch[\"attention_mask\"].to(device)\n",
    "            targets = batch[\"targets\"].to(device)\n",
    "            outputs = model(input_ids=input_ids, attention_mask=attn)\n",
    "            _, p = torch.max(outputs.logits, dim=1)\n",
    "            preds.extend(p.cpu().numpy())\n",
    "            actuals.extend(targets.cpu().numpy())\n",
    "            logits_list.append(outputs.logits.cpu())\n",
    "    return f1_score(actuals, preds), preds, torch.cat(logits_list)"
   ]
  },
  {
   "cell_type": "code",
   "execution_count": 18,
   "id": "94d3d2e0",
   "metadata": {
    "execution": {
     "iopub.execute_input": "2025-10-18T09:54:53.340429Z",
     "iopub.status.busy": "2025-10-18T09:54:53.340153Z",
     "iopub.status.idle": "2025-10-18T10:18:05.285607Z",
     "shell.execute_reply": "2025-10-18T10:18:05.284719Z"
    },
    "papermill": {
     "duration": 1391.97735,
     "end_time": "2025-10-18T10:18:05.286924",
     "exception": false,
     "start_time": "2025-10-18T09:54:53.309574",
     "status": "completed"
    },
    "tags": []
   },
   "outputs": [
    {
     "name": "stderr",
     "output_type": "stream",
     "text": [
      "emoji is not installed, thus not converting emoticons or emojis into text. Install emoji: pip3 install emoji==0.6.0\n"
     ]
    },
    {
     "name": "stdout",
     "output_type": "stream",
     "text": [
      "\n",
      "--- Fold 1/5 ---\n"
     ]
    },
    {
     "name": "stderr",
     "output_type": "stream",
     "text": [
      "Some weights of RobertaForSequenceClassification were not initialized from the model checkpoint at vinai/bertweet-base and are newly initialized: ['classifier.dense.bias', 'classifier.dense.weight', 'classifier.out_proj.bias', 'classifier.out_proj.weight']\n",
      "You should probably TRAIN this model on a down-stream task to be able to use it for predictions and inference.\n"
     ]
    },
    {
     "name": "stdout",
     "output_type": "stream",
     "text": [
      "  Epoch 1/3 | Train Loss=0.4544, Val F1=0.8118\n",
      "  Epoch 2/3 | Train Loss=0.3345, Val F1=0.8135\n",
      "  Epoch 3/3 | Train Loss=0.2686, Val F1=0.8214\n",
      "\n",
      "--- Fold 2/5 ---\n"
     ]
    },
    {
     "name": "stderr",
     "output_type": "stream",
     "text": [
      "Some weights of RobertaForSequenceClassification were not initialized from the model checkpoint at vinai/bertweet-base and are newly initialized: ['classifier.dense.bias', 'classifier.dense.weight', 'classifier.out_proj.bias', 'classifier.out_proj.weight']\n",
      "You should probably TRAIN this model on a down-stream task to be able to use it for predictions and inference.\n"
     ]
    },
    {
     "name": "stdout",
     "output_type": "stream",
     "text": [
      "  Epoch 1/3 | Train Loss=0.4515, Val F1=0.8049\n",
      "  Epoch 2/3 | Train Loss=0.3494, Val F1=0.8098\n",
      "  Epoch 3/3 | Train Loss=0.2916, Val F1=0.8132\n",
      "\n",
      "--- Fold 3/5 ---\n"
     ]
    },
    {
     "name": "stderr",
     "output_type": "stream",
     "text": [
      "Some weights of RobertaForSequenceClassification were not initialized from the model checkpoint at vinai/bertweet-base and are newly initialized: ['classifier.dense.bias', 'classifier.dense.weight', 'classifier.out_proj.bias', 'classifier.out_proj.weight']\n",
      "You should probably TRAIN this model on a down-stream task to be able to use it for predictions and inference.\n"
     ]
    },
    {
     "name": "stdout",
     "output_type": "stream",
     "text": [
      "  Epoch 1/3 | Train Loss=0.4454, Val F1=0.7884\n",
      "  Epoch 2/3 | Train Loss=0.3286, Val F1=0.8023\n",
      "  Epoch 3/3 | Train Loss=0.2650, Val F1=0.7994\n",
      "\n",
      "--- Fold 4/5 ---\n"
     ]
    },
    {
     "name": "stderr",
     "output_type": "stream",
     "text": [
      "Some weights of RobertaForSequenceClassification were not initialized from the model checkpoint at vinai/bertweet-base and are newly initialized: ['classifier.dense.bias', 'classifier.dense.weight', 'classifier.out_proj.bias', 'classifier.out_proj.weight']\n",
      "You should probably TRAIN this model on a down-stream task to be able to use it for predictions and inference.\n"
     ]
    },
    {
     "name": "stdout",
     "output_type": "stream",
     "text": [
      "  Epoch 1/3 | Train Loss=0.4558, Val F1=0.8054\n",
      "  Epoch 2/3 | Train Loss=0.3381, Val F1=0.8124\n",
      "  Epoch 3/3 | Train Loss=0.2758, Val F1=0.8091\n",
      "\n",
      "--- Fold 5/5 ---\n"
     ]
    },
    {
     "name": "stderr",
     "output_type": "stream",
     "text": [
      "Some weights of RobertaForSequenceClassification were not initialized from the model checkpoint at vinai/bertweet-base and are newly initialized: ['classifier.dense.bias', 'classifier.dense.weight', 'classifier.out_proj.bias', 'classifier.out_proj.weight']\n",
      "You should probably TRAIN this model on a down-stream task to be able to use it for predictions and inference.\n"
     ]
    },
    {
     "name": "stdout",
     "output_type": "stream",
     "text": [
      "  Epoch 1/3 | Train Loss=0.4380, Val F1=0.7975\n",
      "  Epoch 2/3 | Train Loss=0.3381, Val F1=0.8026\n",
      "  Epoch 3/3 | Train Loss=0.2746, Val F1=0.7994\n",
      "\n",
      "OOF F1 (BERTweet): 0.8084973445798188\n"
     ]
    }
   ],
   "source": [
    "# 7) Phase 2: BERTweet Training (OOF + Test Probs)\n",
    "\n",
    "tokenizer = AutoTokenizer.from_pretrained(MODEL_NAME, normalization=True)\n",
    "\n",
    "oof_preds = np.zeros(len(train_df))\n",
    "oof_probs = np.zeros(len(train_df))\n",
    "test_logits_list = []\n",
    "\n",
    "skf = StratifiedKFold(n_splits=N_SPLITS, shuffle=True, random_state=SEED)\n",
    "for fold, (tr_idx, val_idx) in enumerate(skf.split(train_df, train_df[\"target\"])):\n",
    "    print(f\"\\n--- Fold {fold+1}/{N_SPLITS} ---\")\n",
    "    tr, val = train_df.iloc[tr_idx], train_df.iloc[val_idx]\n",
    "\n",
    "    train_ds = TweetDataset(tr.clean_text.values, tr.target.values, tokenizer, MAX_LEN)\n",
    "    val_ds   = TweetDataset(val.clean_text.values, val.target.values, tokenizer, MAX_LEN)\n",
    "    train_loader = DataLoader(train_ds, batch_size=BATCH_SIZE, shuffle=True, num_workers=0)\n",
    "    val_loader   = DataLoader(val_ds, batch_size=BATCH_SIZE, shuffle=False, num_workers=0)\n",
    "\n",
    "    model = AutoModelForSequenceClassification.from_pretrained(MODEL_NAME, num_labels=2).to(device)\n",
    "    optimizer = AdamW(model.parameters(), lr=LR)\n",
    "    total_steps = len(train_loader) * EPOCHS\n",
    "    scheduler = get_linear_schedule_with_warmup(optimizer, 0, total_steps)\n",
    "    loss_fn = torch.nn.CrossEntropyLoss().to(device)\n",
    "\n",
    "    best_f1 = 0\n",
    "    for epoch in range(EPOCHS):\n",
    "        train_loss = train_epoch(model, train_loader, loss_fn, optimizer, scheduler)\n",
    "        val_f1, _, _ = eval_model(model, val_loader)\n",
    "        print(f\"  Epoch {epoch+1}/{EPOCHS} | Train Loss={train_loss:.4f}, Val F1={val_f1:.4f}\")\n",
    "        best_f1 = max(best_f1, val_f1)\n",
    "\n",
    "    val_f1, val_preds, val_logits = eval_model(model, val_loader)\n",
    "    oof_preds[val_idx] = val_preds\n",
    "    oof_probs[val_idx] = F.softmax(val_logits, dim=1)[:,1].numpy()\n",
    "\n",
    "    test_ds = TweetDataset(test_df.clean_text.values, np.zeros(len(test_df)), tokenizer, MAX_LEN)\n",
    "    test_loader = DataLoader(test_ds, batch_size=BATCH_SIZE, shuffle=False, num_workers=0)\n",
    "    _, _, test_logits = eval_model(model, test_loader)\n",
    "    test_logits_list.append(test_logits)\n",
    "\n",
    "    del model, optimizer, scheduler\n",
    "    torch.cuda.empty_cache()\n",
    "\n",
    "print(\"\\nOOF F1 (BERTweet):\", f1_score(train_df[\"target\"], oof_preds))\n",
    "avg_test_logits = torch.mean(torch.stack(test_logits_list), dim=0)\n",
    "bert_test_probs = F.softmax(avg_test_logits, dim=1)[:,1].numpy()\n",
    "\n",
    "# Save Phase2 outputs\n",
    "pd.DataFrame({\"id\": train_df[\"id\"], \"oof_prob_disaster\": oof_probs}).to_csv(\"phase2_oof_preds.csv\", index=False)\n",
    "pd.DataFrame({\"id\": test_df[\"id\"], \"test_prob_disaster\": bert_test_probs}).to_csv(\"phase2_test_probs.csv\", index=False)"
   ]
  },
  {
   "cell_type": "code",
   "execution_count": 19,
   "id": "a15f984a",
   "metadata": {
    "execution": {
     "iopub.execute_input": "2025-10-18T10:18:05.414207Z",
     "iopub.status.busy": "2025-10-18T10:18:05.413946Z",
     "iopub.status.idle": "2025-10-18T10:18:16.668986Z",
     "shell.execute_reply": "2025-10-18T10:18:16.668183Z"
    },
    "papermill": {
     "duration": 11.28852,
     "end_time": "2025-10-18T10:18:16.670239",
     "exception": false,
     "start_time": "2025-10-18T10:18:05.381719",
     "status": "completed"
    },
    "tags": []
   },
   "outputs": [
    {
     "name": "stderr",
     "output_type": "stream",
     "text": [
      "/var/folders/66/qj0pgbn10_n7_txykj6jtj2c0000gn/T/ipykernel_84658/3235369934.py:30: UserWarning:\n",
      "\n",
      "This pattern is interpreted as a regular expression, and has match groups. To actually get the groups, use str.extract.\n",
      "\n",
      "/var/folders/66/qj0pgbn10_n7_txykj6jtj2c0000gn/T/ipykernel_84658/3235369934.py:30: UserWarning:\n",
      "\n",
      "This pattern is interpreted as a regular expression, and has match groups. To actually get the groups, use str.extract.\n",
      "\n"
     ]
    },
    {
     "name": "stdout",
     "output_type": "stream",
     "text": [
      "Total features for LGBM: 5020\n",
      "\n",
      "--- LGBM Fold 1/5 ---\n"
     ]
    },
    {
     "name": "stderr",
     "output_type": "stream",
     "text": [
      "/opt/anaconda3/lib/python3.12/site-packages/sklearn/utils/validation.py:2749: UserWarning:\n",
      "\n",
      "X does not have valid feature names, but LGBMClassifier was fitted with feature names\n",
      "\n"
     ]
    },
    {
     "name": "stdout",
     "output_type": "stream",
     "text": [
      "\n",
      "--- LGBM Fold 2/5 ---\n"
     ]
    },
    {
     "name": "stderr",
     "output_type": "stream",
     "text": [
      "/opt/anaconda3/lib/python3.12/site-packages/sklearn/utils/validation.py:2749: UserWarning:\n",
      "\n",
      "X does not have valid feature names, but LGBMClassifier was fitted with feature names\n",
      "\n"
     ]
    },
    {
     "name": "stdout",
     "output_type": "stream",
     "text": [
      "\n",
      "--- LGBM Fold 3/5 ---\n"
     ]
    },
    {
     "name": "stderr",
     "output_type": "stream",
     "text": [
      "/opt/anaconda3/lib/python3.12/site-packages/sklearn/utils/validation.py:2749: UserWarning:\n",
      "\n",
      "X does not have valid feature names, but LGBMClassifier was fitted with feature names\n",
      "\n"
     ]
    },
    {
     "name": "stdout",
     "output_type": "stream",
     "text": [
      "\n",
      "--- LGBM Fold 4/5 ---\n"
     ]
    },
    {
     "name": "stderr",
     "output_type": "stream",
     "text": [
      "/opt/anaconda3/lib/python3.12/site-packages/sklearn/utils/validation.py:2749: UserWarning:\n",
      "\n",
      "X does not have valid feature names, but LGBMClassifier was fitted with feature names\n",
      "\n"
     ]
    },
    {
     "name": "stdout",
     "output_type": "stream",
     "text": [
      "\n",
      "--- LGBM Fold 5/5 ---\n",
      "Overall OOF F1 (LGBM): 0.8072942336126171\n",
      "Phase3 outputs saved.\n"
     ]
    },
    {
     "name": "stderr",
     "output_type": "stream",
     "text": [
      "/opt/anaconda3/lib/python3.12/site-packages/sklearn/utils/validation.py:2749: UserWarning:\n",
      "\n",
      "X does not have valid feature names, but LGBMClassifier was fitted with feature names\n",
      "\n"
     ]
    }
   ],
   "source": [
    "# 8) Phase 3: Feature Extraction + LightGBM\n",
    "\n",
    "def extract_basic_features(df):\n",
    "    features = pd.DataFrame(index=df.index)\n",
    "    features['text_length'] = df['text'].str.len()\n",
    "    features['capitals_ratio'] = df['text'].str.count('[A-Z]') / (features['text_length']+1)\n",
    "    features['hashtag_count'] = df['text'].str.count('#')\n",
    "    features['location_missing'] = (df['location']=='').astype(int)\n",
    "    features['keyword_missing'] = (df['keyword']=='').astype(int)\n",
    "    features['mention_count'] = df['text'].str.count(r'@\\w+')\n",
    "    features['url_count'] = df['text'].str.count(r'http\\S+|www\\.\\S+')\n",
    "    features['number_count'] = df['text'].str.count(r'\\d+')\n",
    "    features['exclaim_count'] = df['text'].str.count(r'!+')\n",
    "    features['question_count'] = df['text'].str.count(r'\\?+')\n",
    "    return features.fillna(0)\n",
    "\n",
    "def extract_advanced_features(df):\n",
    "    features = pd.DataFrame(index=df.index)\n",
    "    text_lower = df['clean_text'].str.lower()\n",
    "    features['sentiment'] = df['clean_text'].apply(lambda x: TextBlob(x).sentiment.polarity)\n",
    "    features['subjectivity'] = df['clean_text'].apply(lambda x: TextBlob(x).sentiment.subjectivity)\n",
    "    features['word_count'] = df['clean_text'].apply(lambda x: len(str(x).split()))\n",
    "    features['unique_word_count'] = df['clean_text'].apply(lambda x: len(set(str(x).split())))\n",
    "    features['unique_word_ratio'] = features['unique_word_count'] / (features['word_count']+1e-6)\n",
    "    features['char_count'] = df['clean_text'].apply(len)\n",
    "    disaster_keywords = ['fire','flood','earthquake','storm','hurricane','tornado','quake','crash','accident','bomb','explosion']\n",
    "    features['disaster_kw_count'] = sum([text_lower.str.count(fr'\\b{w}\\b') for w in disaster_keywords])\n",
    "    disaster_prone_locs = ['california','japan','texas','florida','philippines','indonesia','india','china','houston','new orleans','mumbai','tokyo']\n",
    "    loc_pattern = r'\\b(' + '|'.join(disaster_prone_locs) + r')\\b'\n",
    "    features['is_in_disaster_prone_location'] = (text_lower.str.contains(loc_pattern) | df['location'].str.lower().str.contains(loc_pattern)).astype(int)\n",
    "    urgency_words = ['breaking','now','urgent','alert','just in']\n",
    "    features['urgency_word_count'] = text_lower.str.count(r'\\b(' + '|'.join(urgency_words) + r')\\b')\n",
    "    return features.fillna(0)\n",
    "\n",
    "vectorizer = TfidfVectorizer(ngram_range=(1,2), min_df=3, max_df=0.9, max_features=5000)\n",
    "X_train_tfidf = vectorizer.fit_transform(train_df[\"clean_text\"])\n",
    "X_test_tfidf  = vectorizer.transform(test_df[\"clean_text\"])\n",
    "\n",
    "train_basic = extract_basic_features(train_df)\n",
    "test_basic = extract_basic_features(test_df)\n",
    "train_adv = extract_advanced_features(train_df)\n",
    "test_adv = extract_advanced_features(test_df)\n",
    "\n",
    "train_bert_feats = oof_probs.reshape(-1,1)\n",
    "test_bert_feats = bert_test_probs.reshape(-1,1)\n",
    "\n",
    "X_train = hstack([X_train_tfidf, csr_matrix(train_basic.values), csr_matrix(train_adv.values), csr_matrix(train_bert_feats)]).tocsr()\n",
    "X_test  = hstack([X_test_tfidf, csr_matrix(test_basic.values), csr_matrix(test_adv.values), csr_matrix(test_bert_feats)]).tocsr()\n",
    "y_train = train_df[\"target\"].values\n",
    "\n",
    "print(\"Total features for LGBM:\", X_train.shape[1])\n",
    "\n",
    "lgb_params = {\"objective\":\"binary\",\"boosting_type\":\"gbdt\",\"n_estimators\":10000,\n",
    "              \"learning_rate\":0.01,\"num_leaves\":20,\"max_depth\":5,\n",
    "              \"seed\":SEED,\"n_jobs\":-1,\"verbose\":-1,\n",
    "              \"colsample_bytree\":0.7,\"subsample\":0.7,\"reg_alpha\":0.1,\"reg_lambda\":0.1}\n",
    "\n",
    "oof_preds_lgbm = np.zeros(len(train_df))\n",
    "test_preds_lgbm_prob = np.zeros(len(test_df))\n",
    "\n",
    "skf = StratifiedKFold(n_splits=N_SPLITS, shuffle=True, random_state=SEED)\n",
    "for fold, (tr_idx, val_idx) in enumerate(skf.split(X_train, y_train)):\n",
    "    print(f\"\\n--- LGBM Fold {fold+1}/{N_SPLITS} ---\")\n",
    "    X_tr, X_val = X_train[tr_idx], X_train[val_idx]\n",
    "    y_tr, y_val = y_train[tr_idx], y_train[val_idx]\n",
    "    model = lgb.LGBMClassifier(**lgb_params)\n",
    "    model.fit(X_tr, y_tr, eval_set=[(X_val, y_val)], eval_metric='binary_logloss', callbacks=[lgb.early_stopping(100, verbose=False)])\n",
    "    val_proba = model.predict_proba(X_val)[:,1]\n",
    "    oof_preds_lgbm[val_idx] = (val_proba>0.5).astype(int)\n",
    "    test_preds_lgbm_prob += model.predict_proba(X_test)[:,1] / N_SPLITS\n",
    "\n",
    "print(\"Overall OOF F1 (LGBM):\", f1_score(y_train, oof_preds_lgbm))\n",
    "\n",
    "pd.DataFrame({\"id\": test_df[\"id\"], \"test_prob_disaster\": test_preds_lgbm_prob}).to_csv(\"phase3_test_probs.csv\", index=False)\n",
    "pd.DataFrame({\"id\": test_df[\"id\"], \"target\": (test_preds_lgbm_prob>0.5).astype(int)}).to_csv(\"phase3_lgbm_submission.csv\", index=False)\n",
    "print(\"Phase3 outputs saved.\")"
   ]
  },
  {
   "cell_type": "code",
   "execution_count": 20,
   "id": "5f2fd0d8",
   "metadata": {
    "execution": {
     "iopub.execute_input": "2025-10-18T10:18:16.864743Z",
     "iopub.status.busy": "2025-10-18T10:18:16.864105Z",
     "iopub.status.idle": "2025-10-18T10:18:16.876936Z",
     "shell.execute_reply": "2025-10-18T10:18:16.87624Z"
    },
    "papermill": {
     "duration": 0.046331,
     "end_time": "2025-10-18T10:18:16.878091",
     "exception": false,
     "start_time": "2025-10-18T10:18:16.83176",
     "status": "completed"
    },
    "tags": []
   },
   "outputs": [
    {
     "name": "stdout",
     "output_type": "stream",
     "text": [
      "Final ensemble submission saved as final_ensemble_submission.csv\n"
     ]
    }
   ],
   "source": [
    "# 9) Phase 4: Final Ensemble\n",
    "\n",
    "bert_probs_df = pd.read_csv(\"phase2_test_probs.csv\")\n",
    "lgbm_probs_df = pd.read_csv(\"phase3_test_probs.csv\")\n",
    "\n",
    "final_probs = 0.7*bert_probs_df['test_prob_disaster'] + 0.3*lgbm_probs_df['test_prob_disaster']\n",
    "final_preds = (final_probs>0.5).astype(int)\n",
    "\n",
    "submission_df_final = pd.DataFrame({\"id\": test_df[\"id\"], \"target\": final_preds})\n",
    "submission_df_final.to_csv(\"submission.csv\", index=False)\n",
    "print(\"Final ensemble submission saved as final_ensemble_submission.csv\")"
   ]
  }
 ],
 "metadata": {
  "kaggle": {
   "accelerator": "gpu",
   "dataSources": [
    {
     "databundleVersionId": 869809,
     "sourceId": 17777,
     "sourceType": "competition"
    }
   ],
   "dockerImageVersionId": 31090,
   "isGpuEnabled": true,
   "isInternetEnabled": true,
   "language": "python",
   "sourceType": "notebook"
  },
  "kernelspec": {
   "display_name": "base",
   "language": "python",
   "name": "python3"
  },
  "language_info": {
   "codemirror_mode": {
    "name": "ipython",
    "version": 3
   },
   "file_extension": ".py",
   "mimetype": "text/x-python",
   "name": "python",
   "nbconvert_exporter": "python",
   "pygments_lexer": "ipython3",
   "version": "3.12.7"
  },
  "papermill": {
   "default_parameters": {},
   "duration": 1534.923309,
   "end_time": "2025-10-18T10:18:20.830602",
   "environment_variables": {},
   "exception": null,
   "input_path": "__notebook__.ipynb",
   "output_path": "__notebook__.ipynb",
   "parameters": {},
   "start_time": "2025-10-18T09:52:45.907293",
   "version": "2.6.0"
  },
  "widgets": {
   "application/vnd.jupyter.widget-state+json": {
    "state": {
     "004f018ed06349919ab5e3aeb8945d02": {
      "model_module": "@jupyter-widgets/controls",
      "model_module_version": "2.0.0",
      "model_name": "FloatProgressModel",
      "state": {
       "_dom_classes": [],
       "_model_module": "@jupyter-widgets/controls",
       "_model_module_version": "2.0.0",
       "_model_name": "FloatProgressModel",
       "_view_count": null,
       "_view_module": "@jupyter-widgets/controls",
       "_view_module_version": "2.0.0",
       "_view_name": "ProgressView",
       "bar_style": "success",
       "description": "",
       "description_allow_html": false,
       "layout": "IPY_MODEL_69b6c6c633c74f2187241467a80f68a3",
       "max": 542506096,
       "min": 0,
       "orientation": "horizontal",
       "style": "IPY_MODEL_261fa0b3c769459eb48a4e20cb0fdb4f",
       "tabbable": null,
       "tooltip": null,
       "value": 542506096
      }
     },
     "05a83e61d7d74654bd23b8d8acc0ab67": {
      "model_module": "@jupyter-widgets/base",
      "model_module_version": "2.0.0",
      "model_name": "LayoutModel",
      "state": {
       "_model_module": "@jupyter-widgets/base",
       "_model_module_version": "2.0.0",
       "_model_name": "LayoutModel",
       "_view_count": null,
       "_view_module": "@jupyter-widgets/base",
       "_view_module_version": "2.0.0",
       "_view_name": "LayoutView",
       "align_content": null,
       "align_items": null,
       "align_self": null,
       "border_bottom": null,
       "border_left": null,
       "border_right": null,
       "border_top": null,
       "bottom": null,
       "display": null,
       "flex": null,
       "flex_flow": null,
       "grid_area": null,
       "grid_auto_columns": null,
       "grid_auto_flow": null,
       "grid_auto_rows": null,
       "grid_column": null,
       "grid_gap": null,
       "grid_row": null,
       "grid_template_areas": null,
       "grid_template_columns": null,
       "grid_template_rows": null,
       "height": null,
       "justify_content": null,
       "justify_items": null,
       "left": null,
       "margin": null,
       "max_height": null,
       "max_width": null,
       "min_height": null,
       "min_width": null,
       "object_fit": null,
       "object_position": null,
       "order": null,
       "overflow": null,
       "padding": null,
       "right": null,
       "top": null,
       "visibility": null,
       "width": null
      }
     },
     "05eb2c617668451a87c6af079db0bf8a": {
      "model_module": "@jupyter-widgets/base",
      "model_module_version": "2.0.0",
      "model_name": "LayoutModel",
      "state": {
       "_model_module": "@jupyter-widgets/base",
       "_model_module_version": "2.0.0",
       "_model_name": "LayoutModel",
       "_view_count": null,
       "_view_module": "@jupyter-widgets/base",
       "_view_module_version": "2.0.0",
       "_view_name": "LayoutView",
       "align_content": null,
       "align_items": null,
       "align_self": null,
       "border_bottom": null,
       "border_left": null,
       "border_right": null,
       "border_top": null,
       "bottom": null,
       "display": null,
       "flex": null,
       "flex_flow": null,
       "grid_area": null,
       "grid_auto_columns": null,
       "grid_auto_flow": null,
       "grid_auto_rows": null,
       "grid_column": null,
       "grid_gap": null,
       "grid_row": null,
       "grid_template_areas": null,
       "grid_template_columns": null,
       "grid_template_rows": null,
       "height": null,
       "justify_content": null,
       "justify_items": null,
       "left": null,
       "margin": null,
       "max_height": null,
       "max_width": null,
       "min_height": null,
       "min_width": null,
       "object_fit": null,
       "object_position": null,
       "order": null,
       "overflow": null,
       "padding": null,
       "right": null,
       "top": null,
       "visibility": null,
       "width": null
      }
     },
     "0c672433d31a46278c2f128d77bad164": {
      "model_module": "@jupyter-widgets/base",
      "model_module_version": "2.0.0",
      "model_name": "LayoutModel",
      "state": {
       "_model_module": "@jupyter-widgets/base",
       "_model_module_version": "2.0.0",
       "_model_name": "LayoutModel",
       "_view_count": null,
       "_view_module": "@jupyter-widgets/base",
       "_view_module_version": "2.0.0",
       "_view_name": "LayoutView",
       "align_content": null,
       "align_items": null,
       "align_self": null,
       "border_bottom": null,
       "border_left": null,
       "border_right": null,
       "border_top": null,
       "bottom": null,
       "display": null,
       "flex": null,
       "flex_flow": null,
       "grid_area": null,
       "grid_auto_columns": null,
       "grid_auto_flow": null,
       "grid_auto_rows": null,
       "grid_column": null,
       "grid_gap": null,
       "grid_row": null,
       "grid_template_areas": null,
       "grid_template_columns": null,
       "grid_template_rows": null,
       "height": null,
       "justify_content": null,
       "justify_items": null,
       "left": null,
       "margin": null,
       "max_height": null,
       "max_width": null,
       "min_height": null,
       "min_width": null,
       "object_fit": null,
       "object_position": null,
       "order": null,
       "overflow": null,
       "padding": null,
       "right": null,
       "top": null,
       "visibility": null,
       "width": null
      }
     },
     "0d1bb64f0b6c404799c352528677b69f": {
      "model_module": "@jupyter-widgets/controls",
      "model_module_version": "2.0.0",
      "model_name": "HTMLModel",
      "state": {
       "_dom_classes": [],
       "_model_module": "@jupyter-widgets/controls",
       "_model_module_version": "2.0.0",
       "_model_name": "HTMLModel",
       "_view_count": null,
       "_view_module": "@jupyter-widgets/controls",
       "_view_module_version": "2.0.0",
       "_view_name": "HTMLView",
       "description": "",
       "description_allow_html": false,
       "layout": "IPY_MODEL_b296ed63937a4ef296599d7c0973b111",
       "placeholder": "​",
       "style": "IPY_MODEL_9da8a0c0b8c24ca8b71b5e5dc9a13d5b",
       "tabbable": null,
       "tooltip": null,
       "value": "bpe.codes: "
      }
     },
     "0d88edda67ee4a64985d368f49c121e7": {
      "model_module": "@jupyter-widgets/controls",
      "model_module_version": "2.0.0",
      "model_name": "HTMLModel",
      "state": {
       "_dom_classes": [],
       "_model_module": "@jupyter-widgets/controls",
       "_model_module_version": "2.0.0",
       "_model_name": "HTMLModel",
       "_view_count": null,
       "_view_module": "@jupyter-widgets/controls",
       "_view_module_version": "2.0.0",
       "_view_name": "HTMLView",
       "description": "",
       "description_allow_html": false,
       "layout": "IPY_MODEL_68c86a8f7ef14a66bc3bfa0a134d6b3a",
       "placeholder": "​",
       "style": "IPY_MODEL_7a96bad121fa40fba0efb34259a61905",
       "tabbable": null,
       "tooltip": null,
       "value": " 2.91M/? [00:00&lt;00:00, 116MB/s]"
      }
     },
     "10698d88c32045aa9ed0459d3f575c27": {
      "model_module": "@jupyter-widgets/controls",
      "model_module_version": "2.0.0",
      "model_name": "HTMLStyleModel",
      "state": {
       "_model_module": "@jupyter-widgets/controls",
       "_model_module_version": "2.0.0",
       "_model_name": "HTMLStyleModel",
       "_view_count": null,
       "_view_module": "@jupyter-widgets/base",
       "_view_module_version": "2.0.0",
       "_view_name": "StyleView",
       "background": null,
       "description_width": "",
       "font_size": null,
       "text_color": null
      }
     },
     "17a37ad39d12471e9680ba72b3dda3a3": {
      "model_module": "@jupyter-widgets/controls",
      "model_module_version": "2.0.0",
      "model_name": "HTMLStyleModel",
      "state": {
       "_model_module": "@jupyter-widgets/controls",
       "_model_module_version": "2.0.0",
       "_model_name": "HTMLStyleModel",
       "_view_count": null,
       "_view_module": "@jupyter-widgets/base",
       "_view_module_version": "2.0.0",
       "_view_name": "StyleView",
       "background": null,
       "description_width": "",
       "font_size": null,
       "text_color": null
      }
     },
     "1b9b5d1c12df4e8a9b3fa93c2852fdec": {
      "model_module": "@jupyter-widgets/controls",
      "model_module_version": "2.0.0",
      "model_name": "HTMLStyleModel",
      "state": {
       "_model_module": "@jupyter-widgets/controls",
       "_model_module_version": "2.0.0",
       "_model_name": "HTMLStyleModel",
       "_view_count": null,
       "_view_module": "@jupyter-widgets/base",
       "_view_module_version": "2.0.0",
       "_view_name": "StyleView",
       "background": null,
       "description_width": "",
       "font_size": null,
       "text_color": null
      }
     },
     "261fa0b3c769459eb48a4e20cb0fdb4f": {
      "model_module": "@jupyter-widgets/controls",
      "model_module_version": "2.0.0",
      "model_name": "ProgressStyleModel",
      "state": {
       "_model_module": "@jupyter-widgets/controls",
       "_model_module_version": "2.0.0",
       "_model_name": "ProgressStyleModel",
       "_view_count": null,
       "_view_module": "@jupyter-widgets/base",
       "_view_module_version": "2.0.0",
       "_view_name": "StyleView",
       "bar_color": null,
       "description_width": ""
      }
     },
     "276f9024c2ae48b19f92b66b852bf99e": {
      "model_module": "@jupyter-widgets/controls",
      "model_module_version": "2.0.0",
      "model_name": "HTMLModel",
      "state": {
       "_dom_classes": [],
       "_model_module": "@jupyter-widgets/controls",
       "_model_module_version": "2.0.0",
       "_model_name": "HTMLModel",
       "_view_count": null,
       "_view_module": "@jupyter-widgets/controls",
       "_view_module_version": "2.0.0",
       "_view_name": "HTMLView",
       "description": "",
       "description_allow_html": false,
       "layout": "IPY_MODEL_e5c2528946444baf9e12e670aec19112",
       "placeholder": "​",
       "style": "IPY_MODEL_10698d88c32045aa9ed0459d3f575c27",
       "tabbable": null,
       "tooltip": null,
       "value": "vocab.txt: "
      }
     },
     "29a1111ee4924ce3ac611b1e902f57d0": {
      "model_module": "@jupyter-widgets/controls",
      "model_module_version": "2.0.0",
      "model_name": "FloatProgressModel",
      "state": {
       "_dom_classes": [],
       "_model_module": "@jupyter-widgets/controls",
       "_model_module_version": "2.0.0",
       "_model_name": "FloatProgressModel",
       "_view_count": null,
       "_view_module": "@jupyter-widgets/controls",
       "_view_module_version": "2.0.0",
       "_view_name": "ProgressView",
       "bar_style": "success",
       "description": "",
       "description_allow_html": false,
       "layout": "IPY_MODEL_3b4bb96f627a4d0cae4bd5172fcf76aa",
       "max": 1,
       "min": 0,
       "orientation": "horizontal",
       "style": "IPY_MODEL_5fda4fb8f5434efc8cbe7223c9f1ba3b",
       "tabbable": null,
       "tooltip": null,
       "value": 1
      }
     },
     "2f300335152549cb920d59ea47255462": {
      "model_module": "@jupyter-widgets/controls",
      "model_module_version": "2.0.0",
      "model_name": "HTMLStyleModel",
      "state": {
       "_model_module": "@jupyter-widgets/controls",
       "_model_module_version": "2.0.0",
       "_model_name": "HTMLStyleModel",
       "_view_count": null,
       "_view_module": "@jupyter-widgets/base",
       "_view_module_version": "2.0.0",
       "_view_name": "StyleView",
       "background": null,
       "description_width": "",
       "font_size": null,
       "text_color": null
      }
     },
     "32062cee89d3434797add96ffdd76895": {
      "model_module": "@jupyter-widgets/controls",
      "model_module_version": "2.0.0",
      "model_name": "HTMLStyleModel",
      "state": {
       "_model_module": "@jupyter-widgets/controls",
       "_model_module_version": "2.0.0",
       "_model_name": "HTMLStyleModel",
       "_view_count": null,
       "_view_module": "@jupyter-widgets/base",
       "_view_module_version": "2.0.0",
       "_view_name": "StyleView",
       "background": null,
       "description_width": "",
       "font_size": null,
       "text_color": null
      }
     },
     "36d82b894cb04b6b80c2436894d37f6c": {
      "model_module": "@jupyter-widgets/base",
      "model_module_version": "2.0.0",
      "model_name": "LayoutModel",
      "state": {
       "_model_module": "@jupyter-widgets/base",
       "_model_module_version": "2.0.0",
       "_model_name": "LayoutModel",
       "_view_count": null,
       "_view_module": "@jupyter-widgets/base",
       "_view_module_version": "2.0.0",
       "_view_name": "LayoutView",
       "align_content": null,
       "align_items": null,
       "align_self": null,
       "border_bottom": null,
       "border_left": null,
       "border_right": null,
       "border_top": null,
       "bottom": null,
       "display": null,
       "flex": null,
       "flex_flow": null,
       "grid_area": null,
       "grid_auto_columns": null,
       "grid_auto_flow": null,
       "grid_auto_rows": null,
       "grid_column": null,
       "grid_gap": null,
       "grid_row": null,
       "grid_template_areas": null,
       "grid_template_columns": null,
       "grid_template_rows": null,
       "height": null,
       "justify_content": null,
       "justify_items": null,
       "left": null,
       "margin": null,
       "max_height": null,
       "max_width": null,
       "min_height": null,
       "min_width": null,
       "object_fit": null,
       "object_position": null,
       "order": null,
       "overflow": null,
       "padding": null,
       "right": null,
       "top": null,
       "visibility": null,
       "width": null
      }
     },
     "3aa65dcfeac34fea9546a2577298a01e": {
      "model_module": "@jupyter-widgets/controls",
      "model_module_version": "2.0.0",
      "model_name": "ProgressStyleModel",
      "state": {
       "_model_module": "@jupyter-widgets/controls",
       "_model_module_version": "2.0.0",
       "_model_name": "ProgressStyleModel",
       "_view_count": null,
       "_view_module": "@jupyter-widgets/base",
       "_view_module_version": "2.0.0",
       "_view_name": "StyleView",
       "bar_color": null,
       "description_width": ""
      }
     },
     "3b1d9128831049028ccbeb2fc16c286f": {
      "model_module": "@jupyter-widgets/controls",
      "model_module_version": "2.0.0",
      "model_name": "ProgressStyleModel",
      "state": {
       "_model_module": "@jupyter-widgets/controls",
       "_model_module_version": "2.0.0",
       "_model_name": "ProgressStyleModel",
       "_view_count": null,
       "_view_module": "@jupyter-widgets/base",
       "_view_module_version": "2.0.0",
       "_view_name": "StyleView",
       "bar_color": null,
       "description_width": ""
      }
     },
     "3b4bb96f627a4d0cae4bd5172fcf76aa": {
      "model_module": "@jupyter-widgets/base",
      "model_module_version": "2.0.0",
      "model_name": "LayoutModel",
      "state": {
       "_model_module": "@jupyter-widgets/base",
       "_model_module_version": "2.0.0",
       "_model_name": "LayoutModel",
       "_view_count": null,
       "_view_module": "@jupyter-widgets/base",
       "_view_module_version": "2.0.0",
       "_view_name": "LayoutView",
       "align_content": null,
       "align_items": null,
       "align_self": null,
       "border_bottom": null,
       "border_left": null,
       "border_right": null,
       "border_top": null,
       "bottom": null,
       "display": null,
       "flex": null,
       "flex_flow": null,
       "grid_area": null,
       "grid_auto_columns": null,
       "grid_auto_flow": null,
       "grid_auto_rows": null,
       "grid_column": null,
       "grid_gap": null,
       "grid_row": null,
       "grid_template_areas": null,
       "grid_template_columns": null,
       "grid_template_rows": null,
       "height": null,
       "justify_content": null,
       "justify_items": null,
       "left": null,
       "margin": null,
       "max_height": null,
       "max_width": null,
       "min_height": null,
       "min_width": null,
       "object_fit": null,
       "object_position": null,
       "order": null,
       "overflow": null,
       "padding": null,
       "right": null,
       "top": null,
       "visibility": null,
       "width": "20px"
      }
     },
     "3c3dc75946e44ac0b4f4e26cea401116": {
      "model_module": "@jupyter-widgets/controls",
      "model_module_version": "2.0.0",
      "model_name": "HTMLModel",
      "state": {
       "_dom_classes": [],
       "_model_module": "@jupyter-widgets/controls",
       "_model_module_version": "2.0.0",
       "_model_name": "HTMLModel",
       "_view_count": null,
       "_view_module": "@jupyter-widgets/controls",
       "_view_module_version": "2.0.0",
       "_view_name": "HTMLView",
       "description": "",
       "description_allow_html": false,
       "layout": "IPY_MODEL_4b87d9feb5194b6786765a9acd1bde73",
       "placeholder": "​",
       "style": "IPY_MODEL_aae6890116454a2e8892970d670667e5",
       "tabbable": null,
       "tooltip": null,
       "value": "model.safetensors: 100%"
      }
     },
     "3f189ef9bae24534b35660961a5b13d7": {
      "model_module": "@jupyter-widgets/controls",
      "model_module_version": "2.0.0",
      "model_name": "HTMLStyleModel",
      "state": {
       "_model_module": "@jupyter-widgets/controls",
       "_model_module_version": "2.0.0",
       "_model_name": "HTMLStyleModel",
       "_view_count": null,
       "_view_module": "@jupyter-widgets/base",
       "_view_module_version": "2.0.0",
       "_view_name": "StyleView",
       "background": null,
       "description_width": "",
       "font_size": null,
       "text_color": null
      }
     },
     "3f7a429bf3564ae681b6dc8abc4d90a8": {
      "model_module": "@jupyter-widgets/base",
      "model_module_version": "2.0.0",
      "model_name": "LayoutModel",
      "state": {
       "_model_module": "@jupyter-widgets/base",
       "_model_module_version": "2.0.0",
       "_model_name": "LayoutModel",
       "_view_count": null,
       "_view_module": "@jupyter-widgets/base",
       "_view_module_version": "2.0.0",
       "_view_name": "LayoutView",
       "align_content": null,
       "align_items": null,
       "align_self": null,
       "border_bottom": null,
       "border_left": null,
       "border_right": null,
       "border_top": null,
       "bottom": null,
       "display": null,
       "flex": null,
       "flex_flow": null,
       "grid_area": null,
       "grid_auto_columns": null,
       "grid_auto_flow": null,
       "grid_auto_rows": null,
       "grid_column": null,
       "grid_gap": null,
       "grid_row": null,
       "grid_template_areas": null,
       "grid_template_columns": null,
       "grid_template_rows": null,
       "height": null,
       "justify_content": null,
       "justify_items": null,
       "left": null,
       "margin": null,
       "max_height": null,
       "max_width": null,
       "min_height": null,
       "min_width": null,
       "object_fit": null,
       "object_position": null,
       "order": null,
       "overflow": null,
       "padding": null,
       "right": null,
       "top": null,
       "visibility": null,
       "width": null
      }
     },
     "41764faaf1be45a1acf3810782cb6f50": {
      "model_module": "@jupyter-widgets/controls",
      "model_module_version": "2.0.0",
      "model_name": "ProgressStyleModel",
      "state": {
       "_model_module": "@jupyter-widgets/controls",
       "_model_module_version": "2.0.0",
       "_model_name": "ProgressStyleModel",
       "_view_count": null,
       "_view_module": "@jupyter-widgets/base",
       "_view_module_version": "2.0.0",
       "_view_name": "StyleView",
       "bar_color": null,
       "description_width": ""
      }
     },
     "43b9a2b561a74844aa0c873cfdd475ee": {
      "model_module": "@jupyter-widgets/controls",
      "model_module_version": "2.0.0",
      "model_name": "FloatProgressModel",
      "state": {
       "_dom_classes": [],
       "_model_module": "@jupyter-widgets/controls",
       "_model_module_version": "2.0.0",
       "_model_name": "FloatProgressModel",
       "_view_count": null,
       "_view_module": "@jupyter-widgets/controls",
       "_view_module_version": "2.0.0",
       "_view_name": "ProgressView",
       "bar_style": "success",
       "description": "",
       "description_allow_html": false,
       "layout": "IPY_MODEL_89b9606cbbc842b09a318c69da3ec443",
       "max": 542529064,
       "min": 0,
       "orientation": "horizontal",
       "style": "IPY_MODEL_3b1d9128831049028ccbeb2fc16c286f",
       "tabbable": null,
       "tooltip": null,
       "value": 542529064
      }
     },
     "47853cfb0bd047c5b1dd29b887ca37e0": {
      "model_module": "@jupyter-widgets/base",
      "model_module_version": "2.0.0",
      "model_name": "LayoutModel",
      "state": {
       "_model_module": "@jupyter-widgets/base",
       "_model_module_version": "2.0.0",
       "_model_name": "LayoutModel",
       "_view_count": null,
       "_view_module": "@jupyter-widgets/base",
       "_view_module_version": "2.0.0",
       "_view_name": "LayoutView",
       "align_content": null,
       "align_items": null,
       "align_self": null,
       "border_bottom": null,
       "border_left": null,
       "border_right": null,
       "border_top": null,
       "bottom": null,
       "display": null,
       "flex": null,
       "flex_flow": null,
       "grid_area": null,
       "grid_auto_columns": null,
       "grid_auto_flow": null,
       "grid_auto_rows": null,
       "grid_column": null,
       "grid_gap": null,
       "grid_row": null,
       "grid_template_areas": null,
       "grid_template_columns": null,
       "grid_template_rows": null,
       "height": null,
       "justify_content": null,
       "justify_items": null,
       "left": null,
       "margin": null,
       "max_height": null,
       "max_width": null,
       "min_height": null,
       "min_width": null,
       "object_fit": null,
       "object_position": null,
       "order": null,
       "overflow": null,
       "padding": null,
       "right": null,
       "top": null,
       "visibility": null,
       "width": null
      }
     },
     "49c52f465cc945ad9c6857b90854e466": {
      "model_module": "@jupyter-widgets/controls",
      "model_module_version": "2.0.0",
      "model_name": "HBoxModel",
      "state": {
       "_dom_classes": [],
       "_model_module": "@jupyter-widgets/controls",
       "_model_module_version": "2.0.0",
       "_model_name": "HBoxModel",
       "_view_count": null,
       "_view_module": "@jupyter-widgets/controls",
       "_view_module_version": "2.0.0",
       "_view_name": "HBoxView",
       "box_style": "",
       "children": [
        "IPY_MODEL_6473c2cf68734b3e8238e6362b296751",
        "IPY_MODEL_e6130fedd7414aeeb136168f0ebfdad8",
        "IPY_MODEL_82fdc65c196c4b97adcaa3bc546bec98"
       ],
       "layout": "IPY_MODEL_d98f3dd03e3b4e238a5f4bca7a9502f5",
       "tabbable": null,
       "tooltip": null
      }
     },
     "4b87d9feb5194b6786765a9acd1bde73": {
      "model_module": "@jupyter-widgets/base",
      "model_module_version": "2.0.0",
      "model_name": "LayoutModel",
      "state": {
       "_model_module": "@jupyter-widgets/base",
       "_model_module_version": "2.0.0",
       "_model_name": "LayoutModel",
       "_view_count": null,
       "_view_module": "@jupyter-widgets/base",
       "_view_module_version": "2.0.0",
       "_view_name": "LayoutView",
       "align_content": null,
       "align_items": null,
       "align_self": null,
       "border_bottom": null,
       "border_left": null,
       "border_right": null,
       "border_top": null,
       "bottom": null,
       "display": null,
       "flex": null,
       "flex_flow": null,
       "grid_area": null,
       "grid_auto_columns": null,
       "grid_auto_flow": null,
       "grid_auto_rows": null,
       "grid_column": null,
       "grid_gap": null,
       "grid_row": null,
       "grid_template_areas": null,
       "grid_template_columns": null,
       "grid_template_rows": null,
       "height": null,
       "justify_content": null,
       "justify_items": null,
       "left": null,
       "margin": null,
       "max_height": null,
       "max_width": null,
       "min_height": null,
       "min_width": null,
       "object_fit": null,
       "object_position": null,
       "order": null,
       "overflow": null,
       "padding": null,
       "right": null,
       "top": null,
       "visibility": null,
       "width": null
      }
     },
     "50d2878a6c2c42008b6e0571803dc463": {
      "model_module": "@jupyter-widgets/controls",
      "model_module_version": "2.0.0",
      "model_name": "HTMLModel",
      "state": {
       "_dom_classes": [],
       "_model_module": "@jupyter-widgets/controls",
       "_model_module_version": "2.0.0",
       "_model_name": "HTMLModel",
       "_view_count": null,
       "_view_module": "@jupyter-widgets/controls",
       "_view_module_version": "2.0.0",
       "_view_name": "HTMLView",
       "description": "",
       "description_allow_html": false,
       "layout": "IPY_MODEL_47853cfb0bd047c5b1dd29b887ca37e0",
       "placeholder": "​",
       "style": "IPY_MODEL_d47e90de13ab4b09b6a6916dc8151161",
       "tabbable": null,
       "tooltip": null,
       "value": " 1.08M/? [00:00&lt;00:00, 66.5MB/s]"
      }
     },
     "580efe371fb2483dafd9071086de13dd": {
      "model_module": "@jupyter-widgets/base",
      "model_module_version": "2.0.0",
      "model_name": "LayoutModel",
      "state": {
       "_model_module": "@jupyter-widgets/base",
       "_model_module_version": "2.0.0",
       "_model_name": "LayoutModel",
       "_view_count": null,
       "_view_module": "@jupyter-widgets/base",
       "_view_module_version": "2.0.0",
       "_view_name": "LayoutView",
       "align_content": null,
       "align_items": null,
       "align_self": null,
       "border_bottom": null,
       "border_left": null,
       "border_right": null,
       "border_top": null,
       "bottom": null,
       "display": null,
       "flex": null,
       "flex_flow": null,
       "grid_area": null,
       "grid_auto_columns": null,
       "grid_auto_flow": null,
       "grid_auto_rows": null,
       "grid_column": null,
       "grid_gap": null,
       "grid_row": null,
       "grid_template_areas": null,
       "grid_template_columns": null,
       "grid_template_rows": null,
       "height": null,
       "justify_content": null,
       "justify_items": null,
       "left": null,
       "margin": null,
       "max_height": null,
       "max_width": null,
       "min_height": null,
       "min_width": null,
       "object_fit": null,
       "object_position": null,
       "order": null,
       "overflow": null,
       "padding": null,
       "right": null,
       "top": null,
       "visibility": null,
       "width": null
      }
     },
     "5cd346dd8d0444deb036d8d21ee817fa": {
      "model_module": "@jupyter-widgets/controls",
      "model_module_version": "2.0.0",
      "model_name": "HTMLModel",
      "state": {
       "_dom_classes": [],
       "_model_module": "@jupyter-widgets/controls",
       "_model_module_version": "2.0.0",
       "_model_name": "HTMLModel",
       "_view_count": null,
       "_view_module": "@jupyter-widgets/controls",
       "_view_module_version": "2.0.0",
       "_view_name": "HTMLView",
       "description": "",
       "description_allow_html": false,
       "layout": "IPY_MODEL_eae23e1dfe174071ab52c22d465fe3a6",
       "placeholder": "​",
       "style": "IPY_MODEL_6da909de349d40beb414af37232db481",
       "tabbable": null,
       "tooltip": null,
       "value": " 543M/543M [00:03&lt;00:00, 366MB/s]"
      }
     },
     "5fda4fb8f5434efc8cbe7223c9f1ba3b": {
      "model_module": "@jupyter-widgets/controls",
      "model_module_version": "2.0.0",
      "model_name": "ProgressStyleModel",
      "state": {
       "_model_module": "@jupyter-widgets/controls",
       "_model_module_version": "2.0.0",
       "_model_name": "ProgressStyleModel",
       "_view_count": null,
       "_view_module": "@jupyter-widgets/base",
       "_view_module_version": "2.0.0",
       "_view_name": "StyleView",
       "bar_color": null,
       "description_width": ""
      }
     },
     "6473c2cf68734b3e8238e6362b296751": {
      "model_module": "@jupyter-widgets/controls",
      "model_module_version": "2.0.0",
      "model_name": "HTMLModel",
      "state": {
       "_dom_classes": [],
       "_model_module": "@jupyter-widgets/controls",
       "_model_module_version": "2.0.0",
       "_model_name": "HTMLModel",
       "_view_count": null,
       "_view_module": "@jupyter-widgets/controls",
       "_view_module_version": "2.0.0",
       "_view_name": "HTMLView",
       "description": "",
       "description_allow_html": false,
       "layout": "IPY_MODEL_0c672433d31a46278c2f128d77bad164",
       "placeholder": "​",
       "style": "IPY_MODEL_3f189ef9bae24534b35660961a5b13d7",
       "tabbable": null,
       "tooltip": null,
       "value": "config.json: 100%"
      }
     },
     "6685e728a31a4561bff64d554542bba2": {
      "model_module": "@jupyter-widgets/controls",
      "model_module_version": "2.0.0",
      "model_name": "HTMLModel",
      "state": {
       "_dom_classes": [],
       "_model_module": "@jupyter-widgets/controls",
       "_model_module_version": "2.0.0",
       "_model_name": "HTMLModel",
       "_view_count": null,
       "_view_module": "@jupyter-widgets/controls",
       "_view_module_version": "2.0.0",
       "_view_name": "HTMLView",
       "description": "",
       "description_allow_html": false,
       "layout": "IPY_MODEL_05eb2c617668451a87c6af079db0bf8a",
       "placeholder": "​",
       "style": "IPY_MODEL_1b9b5d1c12df4e8a9b3fa93c2852fdec",
       "tabbable": null,
       "tooltip": null,
       "value": " 543M/543M [00:03&lt;00:00, 335MB/s]"
      }
     },
     "68c86a8f7ef14a66bc3bfa0a134d6b3a": {
      "model_module": "@jupyter-widgets/base",
      "model_module_version": "2.0.0",
      "model_name": "LayoutModel",
      "state": {
       "_model_module": "@jupyter-widgets/base",
       "_model_module_version": "2.0.0",
       "_model_name": "LayoutModel",
       "_view_count": null,
       "_view_module": "@jupyter-widgets/base",
       "_view_module_version": "2.0.0",
       "_view_name": "LayoutView",
       "align_content": null,
       "align_items": null,
       "align_self": null,
       "border_bottom": null,
       "border_left": null,
       "border_right": null,
       "border_top": null,
       "bottom": null,
       "display": null,
       "flex": null,
       "flex_flow": null,
       "grid_area": null,
       "grid_auto_columns": null,
       "grid_auto_flow": null,
       "grid_auto_rows": null,
       "grid_column": null,
       "grid_gap": null,
       "grid_row": null,
       "grid_template_areas": null,
       "grid_template_columns": null,
       "grid_template_rows": null,
       "height": null,
       "justify_content": null,
       "justify_items": null,
       "left": null,
       "margin": null,
       "max_height": null,
       "max_width": null,
       "min_height": null,
       "min_width": null,
       "object_fit": null,
       "object_position": null,
       "order": null,
       "overflow": null,
       "padding": null,
       "right": null,
       "top": null,
       "visibility": null,
       "width": null
      }
     },
     "69b6c6c633c74f2187241467a80f68a3": {
      "model_module": "@jupyter-widgets/base",
      "model_module_version": "2.0.0",
      "model_name": "LayoutModel",
      "state": {
       "_model_module": "@jupyter-widgets/base",
       "_model_module_version": "2.0.0",
       "_model_name": "LayoutModel",
       "_view_count": null,
       "_view_module": "@jupyter-widgets/base",
       "_view_module_version": "2.0.0",
       "_view_name": "LayoutView",
       "align_content": null,
       "align_items": null,
       "align_self": null,
       "border_bottom": null,
       "border_left": null,
       "border_right": null,
       "border_top": null,
       "bottom": null,
       "display": null,
       "flex": null,
       "flex_flow": null,
       "grid_area": null,
       "grid_auto_columns": null,
       "grid_auto_flow": null,
       "grid_auto_rows": null,
       "grid_column": null,
       "grid_gap": null,
       "grid_row": null,
       "grid_template_areas": null,
       "grid_template_columns": null,
       "grid_template_rows": null,
       "height": null,
       "justify_content": null,
       "justify_items": null,
       "left": null,
       "margin": null,
       "max_height": null,
       "max_width": null,
       "min_height": null,
       "min_width": null,
       "object_fit": null,
       "object_position": null,
       "order": null,
       "overflow": null,
       "padding": null,
       "right": null,
       "top": null,
       "visibility": null,
       "width": null
      }
     },
     "6abf1ea2ed75417dbb14e9edfb70ccda": {
      "model_module": "@jupyter-widgets/controls",
      "model_module_version": "2.0.0",
      "model_name": "FloatProgressModel",
      "state": {
       "_dom_classes": [],
       "_model_module": "@jupyter-widgets/controls",
       "_model_module_version": "2.0.0",
       "_model_name": "FloatProgressModel",
       "_view_count": null,
       "_view_module": "@jupyter-widgets/controls",
       "_view_module_version": "2.0.0",
       "_view_name": "ProgressView",
       "bar_style": "success",
       "description": "",
       "description_allow_html": false,
       "layout": "IPY_MODEL_817ebd1cdbb54074ad0d2809a2702978",
       "max": 1,
       "min": 0,
       "orientation": "horizontal",
       "style": "IPY_MODEL_7617403229b54edeb5c8fddb87afed78",
       "tabbable": null,
       "tooltip": null,
       "value": 1
      }
     },
     "6da909de349d40beb414af37232db481": {
      "model_module": "@jupyter-widgets/controls",
      "model_module_version": "2.0.0",
      "model_name": "HTMLStyleModel",
      "state": {
       "_model_module": "@jupyter-widgets/controls",
       "_model_module_version": "2.0.0",
       "_model_name": "HTMLStyleModel",
       "_view_count": null,
       "_view_module": "@jupyter-widgets/base",
       "_view_module_version": "2.0.0",
       "_view_name": "StyleView",
       "background": null,
       "description_width": "",
       "font_size": null,
       "text_color": null
      }
     },
     "7617403229b54edeb5c8fddb87afed78": {
      "model_module": "@jupyter-widgets/controls",
      "model_module_version": "2.0.0",
      "model_name": "ProgressStyleModel",
      "state": {
       "_model_module": "@jupyter-widgets/controls",
       "_model_module_version": "2.0.0",
       "_model_name": "ProgressStyleModel",
       "_view_count": null,
       "_view_module": "@jupyter-widgets/base",
       "_view_module_version": "2.0.0",
       "_view_name": "StyleView",
       "bar_color": null,
       "description_width": ""
      }
     },
     "7a96bad121fa40fba0efb34259a61905": {
      "model_module": "@jupyter-widgets/controls",
      "model_module_version": "2.0.0",
      "model_name": "HTMLStyleModel",
      "state": {
       "_model_module": "@jupyter-widgets/controls",
       "_model_module_version": "2.0.0",
       "_model_name": "HTMLStyleModel",
       "_view_count": null,
       "_view_module": "@jupyter-widgets/base",
       "_view_module_version": "2.0.0",
       "_view_name": "StyleView",
       "background": null,
       "description_width": "",
       "font_size": null,
       "text_color": null
      }
     },
     "7d5daa28046f4a168ecdc2be7fdd6b1f": {
      "model_module": "@jupyter-widgets/controls",
      "model_module_version": "2.0.0",
      "model_name": "HTMLModel",
      "state": {
       "_dom_classes": [],
       "_model_module": "@jupyter-widgets/controls",
       "_model_module_version": "2.0.0",
       "_model_name": "HTMLModel",
       "_view_count": null,
       "_view_module": "@jupyter-widgets/controls",
       "_view_module_version": "2.0.0",
       "_view_name": "HTMLView",
       "description": "",
       "description_allow_html": false,
       "layout": "IPY_MODEL_d772a9e3214945f4b386febe3037b16c",
       "placeholder": "​",
       "style": "IPY_MODEL_acbe0abde26d499bb014323834cc3955",
       "tabbable": null,
       "tooltip": null,
       "value": "tokenizer.json: "
      }
     },
     "817ebd1cdbb54074ad0d2809a2702978": {
      "model_module": "@jupyter-widgets/base",
      "model_module_version": "2.0.0",
      "model_name": "LayoutModel",
      "state": {
       "_model_module": "@jupyter-widgets/base",
       "_model_module_version": "2.0.0",
       "_model_name": "LayoutModel",
       "_view_count": null,
       "_view_module": "@jupyter-widgets/base",
       "_view_module_version": "2.0.0",
       "_view_name": "LayoutView",
       "align_content": null,
       "align_items": null,
       "align_self": null,
       "border_bottom": null,
       "border_left": null,
       "border_right": null,
       "border_top": null,
       "bottom": null,
       "display": null,
       "flex": null,
       "flex_flow": null,
       "grid_area": null,
       "grid_auto_columns": null,
       "grid_auto_flow": null,
       "grid_auto_rows": null,
       "grid_column": null,
       "grid_gap": null,
       "grid_row": null,
       "grid_template_areas": null,
       "grid_template_columns": null,
       "grid_template_rows": null,
       "height": null,
       "justify_content": null,
       "justify_items": null,
       "left": null,
       "margin": null,
       "max_height": null,
       "max_width": null,
       "min_height": null,
       "min_width": null,
       "object_fit": null,
       "object_position": null,
       "order": null,
       "overflow": null,
       "padding": null,
       "right": null,
       "top": null,
       "visibility": null,
       "width": "20px"
      }
     },
     "82fdc65c196c4b97adcaa3bc546bec98": {
      "model_module": "@jupyter-widgets/controls",
      "model_module_version": "2.0.0",
      "model_name": "HTMLModel",
      "state": {
       "_dom_classes": [],
       "_model_module": "@jupyter-widgets/controls",
       "_model_module_version": "2.0.0",
       "_model_name": "HTMLModel",
       "_view_count": null,
       "_view_module": "@jupyter-widgets/controls",
       "_view_module_version": "2.0.0",
       "_view_name": "HTMLView",
       "description": "",
       "description_allow_html": false,
       "layout": "IPY_MODEL_cc105925a95b4b8fbac865a2529f3625",
       "placeholder": "​",
       "style": "IPY_MODEL_2f300335152549cb920d59ea47255462",
       "tabbable": null,
       "tooltip": null,
       "value": " 558/558 [00:00&lt;00:00, 69.1kB/s]"
      }
     },
     "894da768d27c4e5d9d0b2037848deb5f": {
      "model_module": "@jupyter-widgets/base",
      "model_module_version": "2.0.0",
      "model_name": "LayoutModel",
      "state": {
       "_model_module": "@jupyter-widgets/base",
       "_model_module_version": "2.0.0",
       "_model_name": "LayoutModel",
       "_view_count": null,
       "_view_module": "@jupyter-widgets/base",
       "_view_module_version": "2.0.0",
       "_view_name": "LayoutView",
       "align_content": null,
       "align_items": null,
       "align_self": null,
       "border_bottom": null,
       "border_left": null,
       "border_right": null,
       "border_top": null,
       "bottom": null,
       "display": null,
       "flex": null,
       "flex_flow": null,
       "grid_area": null,
       "grid_auto_columns": null,
       "grid_auto_flow": null,
       "grid_auto_rows": null,
       "grid_column": null,
       "grid_gap": null,
       "grid_row": null,
       "grid_template_areas": null,
       "grid_template_columns": null,
       "grid_template_rows": null,
       "height": null,
       "justify_content": null,
       "justify_items": null,
       "left": null,
       "margin": null,
       "max_height": null,
       "max_width": null,
       "min_height": null,
       "min_width": null,
       "object_fit": null,
       "object_position": null,
       "order": null,
       "overflow": null,
       "padding": null,
       "right": null,
       "top": null,
       "visibility": null,
       "width": null
      }
     },
     "89b9606cbbc842b09a318c69da3ec443": {
      "model_module": "@jupyter-widgets/base",
      "model_module_version": "2.0.0",
      "model_name": "LayoutModel",
      "state": {
       "_model_module": "@jupyter-widgets/base",
       "_model_module_version": "2.0.0",
       "_model_name": "LayoutModel",
       "_view_count": null,
       "_view_module": "@jupyter-widgets/base",
       "_view_module_version": "2.0.0",
       "_view_name": "LayoutView",
       "align_content": null,
       "align_items": null,
       "align_self": null,
       "border_bottom": null,
       "border_left": null,
       "border_right": null,
       "border_top": null,
       "bottom": null,
       "display": null,
       "flex": null,
       "flex_flow": null,
       "grid_area": null,
       "grid_auto_columns": null,
       "grid_auto_flow": null,
       "grid_auto_rows": null,
       "grid_column": null,
       "grid_gap": null,
       "grid_row": null,
       "grid_template_areas": null,
       "grid_template_columns": null,
       "grid_template_rows": null,
       "height": null,
       "justify_content": null,
       "justify_items": null,
       "left": null,
       "margin": null,
       "max_height": null,
       "max_width": null,
       "min_height": null,
       "min_width": null,
       "object_fit": null,
       "object_position": null,
       "order": null,
       "overflow": null,
       "padding": null,
       "right": null,
       "top": null,
       "visibility": null,
       "width": null
      }
     },
     "8e049f2ab242471ebfd600eeb06e1375": {
      "model_module": "@jupyter-widgets/base",
      "model_module_version": "2.0.0",
      "model_name": "LayoutModel",
      "state": {
       "_model_module": "@jupyter-widgets/base",
       "_model_module_version": "2.0.0",
       "_model_name": "LayoutModel",
       "_view_count": null,
       "_view_module": "@jupyter-widgets/base",
       "_view_module_version": "2.0.0",
       "_view_name": "LayoutView",
       "align_content": null,
       "align_items": null,
       "align_self": null,
       "border_bottom": null,
       "border_left": null,
       "border_right": null,
       "border_top": null,
       "bottom": null,
       "display": null,
       "flex": null,
       "flex_flow": null,
       "grid_area": null,
       "grid_auto_columns": null,
       "grid_auto_flow": null,
       "grid_auto_rows": null,
       "grid_column": null,
       "grid_gap": null,
       "grid_row": null,
       "grid_template_areas": null,
       "grid_template_columns": null,
       "grid_template_rows": null,
       "height": null,
       "justify_content": null,
       "justify_items": null,
       "left": null,
       "margin": null,
       "max_height": null,
       "max_width": null,
       "min_height": null,
       "min_width": null,
       "object_fit": null,
       "object_position": null,
       "order": null,
       "overflow": null,
       "padding": null,
       "right": null,
       "top": null,
       "visibility": null,
       "width": "20px"
      }
     },
     "99db9426282e4b1e828b6b120176779b": {
      "model_module": "@jupyter-widgets/base",
      "model_module_version": "2.0.0",
      "model_name": "LayoutModel",
      "state": {
       "_model_module": "@jupyter-widgets/base",
       "_model_module_version": "2.0.0",
       "_model_name": "LayoutModel",
       "_view_count": null,
       "_view_module": "@jupyter-widgets/base",
       "_view_module_version": "2.0.0",
       "_view_name": "LayoutView",
       "align_content": null,
       "align_items": null,
       "align_self": null,
       "border_bottom": null,
       "border_left": null,
       "border_right": null,
       "border_top": null,
       "bottom": null,
       "display": null,
       "flex": null,
       "flex_flow": null,
       "grid_area": null,
       "grid_auto_columns": null,
       "grid_auto_flow": null,
       "grid_auto_rows": null,
       "grid_column": null,
       "grid_gap": null,
       "grid_row": null,
       "grid_template_areas": null,
       "grid_template_columns": null,
       "grid_template_rows": null,
       "height": null,
       "justify_content": null,
       "justify_items": null,
       "left": null,
       "margin": null,
       "max_height": null,
       "max_width": null,
       "min_height": null,
       "min_width": null,
       "object_fit": null,
       "object_position": null,
       "order": null,
       "overflow": null,
       "padding": null,
       "right": null,
       "top": null,
       "visibility": null,
       "width": null
      }
     },
     "9da8a0c0b8c24ca8b71b5e5dc9a13d5b": {
      "model_module": "@jupyter-widgets/controls",
      "model_module_version": "2.0.0",
      "model_name": "HTMLStyleModel",
      "state": {
       "_model_module": "@jupyter-widgets/controls",
       "_model_module_version": "2.0.0",
       "_model_name": "HTMLStyleModel",
       "_view_count": null,
       "_view_module": "@jupyter-widgets/base",
       "_view_module_version": "2.0.0",
       "_view_name": "StyleView",
       "background": null,
       "description_width": "",
       "font_size": null,
       "text_color": null
      }
     },
     "a107e45053b544d68453dea2c85180ac": {
      "model_module": "@jupyter-widgets/controls",
      "model_module_version": "2.0.0",
      "model_name": "HTMLModel",
      "state": {
       "_dom_classes": [],
       "_model_module": "@jupyter-widgets/controls",
       "_model_module_version": "2.0.0",
       "_model_name": "HTMLModel",
       "_view_count": null,
       "_view_module": "@jupyter-widgets/controls",
       "_view_module_version": "2.0.0",
       "_view_name": "HTMLView",
       "description": "",
       "description_allow_html": false,
       "layout": "IPY_MODEL_894da768d27c4e5d9d0b2037848deb5f",
       "placeholder": "​",
       "style": "IPY_MODEL_17a37ad39d12471e9680ba72b3dda3a3",
       "tabbable": null,
       "tooltip": null,
       "value": "pytorch_model.bin: 100%"
      }
     },
     "a5d300c551074a0294d38b5c78adcceb": {
      "model_module": "@jupyter-widgets/controls",
      "model_module_version": "2.0.0",
      "model_name": "FloatProgressModel",
      "state": {
       "_dom_classes": [],
       "_model_module": "@jupyter-widgets/controls",
       "_model_module_version": "2.0.0",
       "_model_name": "FloatProgressModel",
       "_view_count": null,
       "_view_module": "@jupyter-widgets/controls",
       "_view_module_version": "2.0.0",
       "_view_name": "ProgressView",
       "bar_style": "success",
       "description": "",
       "description_allow_html": false,
       "layout": "IPY_MODEL_8e049f2ab242471ebfd600eeb06e1375",
       "max": 1,
       "min": 0,
       "orientation": "horizontal",
       "style": "IPY_MODEL_3aa65dcfeac34fea9546a2577298a01e",
       "tabbable": null,
       "tooltip": null,
       "value": 1
      }
     },
     "aae6890116454a2e8892970d670667e5": {
      "model_module": "@jupyter-widgets/controls",
      "model_module_version": "2.0.0",
      "model_name": "HTMLStyleModel",
      "state": {
       "_model_module": "@jupyter-widgets/controls",
       "_model_module_version": "2.0.0",
       "_model_name": "HTMLStyleModel",
       "_view_count": null,
       "_view_module": "@jupyter-widgets/base",
       "_view_module_version": "2.0.0",
       "_view_name": "StyleView",
       "background": null,
       "description_width": "",
       "font_size": null,
       "text_color": null
      }
     },
     "acbe0abde26d499bb014323834cc3955": {
      "model_module": "@jupyter-widgets/controls",
      "model_module_version": "2.0.0",
      "model_name": "HTMLStyleModel",
      "state": {
       "_model_module": "@jupyter-widgets/controls",
       "_model_module_version": "2.0.0",
       "_model_name": "HTMLStyleModel",
       "_view_count": null,
       "_view_module": "@jupyter-widgets/base",
       "_view_module_version": "2.0.0",
       "_view_name": "StyleView",
       "background": null,
       "description_width": "",
       "font_size": null,
       "text_color": null
      }
     },
     "b296ed63937a4ef296599d7c0973b111": {
      "model_module": "@jupyter-widgets/base",
      "model_module_version": "2.0.0",
      "model_name": "LayoutModel",
      "state": {
       "_model_module": "@jupyter-widgets/base",
       "_model_module_version": "2.0.0",
       "_model_name": "LayoutModel",
       "_view_count": null,
       "_view_module": "@jupyter-widgets/base",
       "_view_module_version": "2.0.0",
       "_view_name": "LayoutView",
       "align_content": null,
       "align_items": null,
       "align_self": null,
       "border_bottom": null,
       "border_left": null,
       "border_right": null,
       "border_top": null,
       "bottom": null,
       "display": null,
       "flex": null,
       "flex_flow": null,
       "grid_area": null,
       "grid_auto_columns": null,
       "grid_auto_flow": null,
       "grid_auto_rows": null,
       "grid_column": null,
       "grid_gap": null,
       "grid_row": null,
       "grid_template_areas": null,
       "grid_template_columns": null,
       "grid_template_rows": null,
       "height": null,
       "justify_content": null,
       "justify_items": null,
       "left": null,
       "margin": null,
       "max_height": null,
       "max_width": null,
       "min_height": null,
       "min_width": null,
       "object_fit": null,
       "object_position": null,
       "order": null,
       "overflow": null,
       "padding": null,
       "right": null,
       "top": null,
       "visibility": null,
       "width": null
      }
     },
     "c0c5c0999a5a49bbbab1b43dfdea8ac7": {
      "model_module": "@jupyter-widgets/base",
      "model_module_version": "2.0.0",
      "model_name": "LayoutModel",
      "state": {
       "_model_module": "@jupyter-widgets/base",
       "_model_module_version": "2.0.0",
       "_model_name": "LayoutModel",
       "_view_count": null,
       "_view_module": "@jupyter-widgets/base",
       "_view_module_version": "2.0.0",
       "_view_name": "LayoutView",
       "align_content": null,
       "align_items": null,
       "align_self": null,
       "border_bottom": null,
       "border_left": null,
       "border_right": null,
       "border_top": null,
       "bottom": null,
       "display": null,
       "flex": null,
       "flex_flow": null,
       "grid_area": null,
       "grid_auto_columns": null,
       "grid_auto_flow": null,
       "grid_auto_rows": null,
       "grid_column": null,
       "grid_gap": null,
       "grid_row": null,
       "grid_template_areas": null,
       "grid_template_columns": null,
       "grid_template_rows": null,
       "height": null,
       "justify_content": null,
       "justify_items": null,
       "left": null,
       "margin": null,
       "max_height": null,
       "max_width": null,
       "min_height": null,
       "min_width": null,
       "object_fit": null,
       "object_position": null,
       "order": null,
       "overflow": null,
       "padding": null,
       "right": null,
       "top": null,
       "visibility": null,
       "width": null
      }
     },
     "c9b6e7bdd4e2406d9cf9ebf80b1d5480": {
      "model_module": "@jupyter-widgets/base",
      "model_module_version": "2.0.0",
      "model_name": "LayoutModel",
      "state": {
       "_model_module": "@jupyter-widgets/base",
       "_model_module_version": "2.0.0",
       "_model_name": "LayoutModel",
       "_view_count": null,
       "_view_module": "@jupyter-widgets/base",
       "_view_module_version": "2.0.0",
       "_view_name": "LayoutView",
       "align_content": null,
       "align_items": null,
       "align_self": null,
       "border_bottom": null,
       "border_left": null,
       "border_right": null,
       "border_top": null,
       "bottom": null,
       "display": null,
       "flex": null,
       "flex_flow": null,
       "grid_area": null,
       "grid_auto_columns": null,
       "grid_auto_flow": null,
       "grid_auto_rows": null,
       "grid_column": null,
       "grid_gap": null,
       "grid_row": null,
       "grid_template_areas": null,
       "grid_template_columns": null,
       "grid_template_rows": null,
       "height": null,
       "justify_content": null,
       "justify_items": null,
       "left": null,
       "margin": null,
       "max_height": null,
       "max_width": null,
       "min_height": null,
       "min_width": null,
       "object_fit": null,
       "object_position": null,
       "order": null,
       "overflow": null,
       "padding": null,
       "right": null,
       "top": null,
       "visibility": null,
       "width": null
      }
     },
     "cc105925a95b4b8fbac865a2529f3625": {
      "model_module": "@jupyter-widgets/base",
      "model_module_version": "2.0.0",
      "model_name": "LayoutModel",
      "state": {
       "_model_module": "@jupyter-widgets/base",
       "_model_module_version": "2.0.0",
       "_model_name": "LayoutModel",
       "_view_count": null,
       "_view_module": "@jupyter-widgets/base",
       "_view_module_version": "2.0.0",
       "_view_name": "LayoutView",
       "align_content": null,
       "align_items": null,
       "align_self": null,
       "border_bottom": null,
       "border_left": null,
       "border_right": null,
       "border_top": null,
       "bottom": null,
       "display": null,
       "flex": null,
       "flex_flow": null,
       "grid_area": null,
       "grid_auto_columns": null,
       "grid_auto_flow": null,
       "grid_auto_rows": null,
       "grid_column": null,
       "grid_gap": null,
       "grid_row": null,
       "grid_template_areas": null,
       "grid_template_columns": null,
       "grid_template_rows": null,
       "height": null,
       "justify_content": null,
       "justify_items": null,
       "left": null,
       "margin": null,
       "max_height": null,
       "max_width": null,
       "min_height": null,
       "min_width": null,
       "object_fit": null,
       "object_position": null,
       "order": null,
       "overflow": null,
       "padding": null,
       "right": null,
       "top": null,
       "visibility": null,
       "width": null
      }
     },
     "cc30b28195c949c2850ae5ac980fc57a": {
      "model_module": "@jupyter-widgets/controls",
      "model_module_version": "2.0.0",
      "model_name": "HTMLModel",
      "state": {
       "_dom_classes": [],
       "_model_module": "@jupyter-widgets/controls",
       "_model_module_version": "2.0.0",
       "_model_name": "HTMLModel",
       "_view_count": null,
       "_view_module": "@jupyter-widgets/controls",
       "_view_module_version": "2.0.0",
       "_view_name": "HTMLView",
       "description": "",
       "description_allow_html": false,
       "layout": "IPY_MODEL_c0c5c0999a5a49bbbab1b43dfdea8ac7",
       "placeholder": "​",
       "style": "IPY_MODEL_32062cee89d3434797add96ffdd76895",
       "tabbable": null,
       "tooltip": null,
       "value": " 843k/? [00:00&lt;00:00, 46.8MB/s]"
      }
     },
     "d47e90de13ab4b09b6a6916dc8151161": {
      "model_module": "@jupyter-widgets/controls",
      "model_module_version": "2.0.0",
      "model_name": "HTMLStyleModel",
      "state": {
       "_model_module": "@jupyter-widgets/controls",
       "_model_module_version": "2.0.0",
       "_model_name": "HTMLStyleModel",
       "_view_count": null,
       "_view_module": "@jupyter-widgets/base",
       "_view_module_version": "2.0.0",
       "_view_name": "StyleView",
       "background": null,
       "description_width": "",
       "font_size": null,
       "text_color": null
      }
     },
     "d772a9e3214945f4b386febe3037b16c": {
      "model_module": "@jupyter-widgets/base",
      "model_module_version": "2.0.0",
      "model_name": "LayoutModel",
      "state": {
       "_model_module": "@jupyter-widgets/base",
       "_model_module_version": "2.0.0",
       "_model_name": "LayoutModel",
       "_view_count": null,
       "_view_module": "@jupyter-widgets/base",
       "_view_module_version": "2.0.0",
       "_view_name": "LayoutView",
       "align_content": null,
       "align_items": null,
       "align_self": null,
       "border_bottom": null,
       "border_left": null,
       "border_right": null,
       "border_top": null,
       "bottom": null,
       "display": null,
       "flex": null,
       "flex_flow": null,
       "grid_area": null,
       "grid_auto_columns": null,
       "grid_auto_flow": null,
       "grid_auto_rows": null,
       "grid_column": null,
       "grid_gap": null,
       "grid_row": null,
       "grid_template_areas": null,
       "grid_template_columns": null,
       "grid_template_rows": null,
       "height": null,
       "justify_content": null,
       "justify_items": null,
       "left": null,
       "margin": null,
       "max_height": null,
       "max_width": null,
       "min_height": null,
       "min_width": null,
       "object_fit": null,
       "object_position": null,
       "order": null,
       "overflow": null,
       "padding": null,
       "right": null,
       "top": null,
       "visibility": null,
       "width": null
      }
     },
     "d98f3dd03e3b4e238a5f4bca7a9502f5": {
      "model_module": "@jupyter-widgets/base",
      "model_module_version": "2.0.0",
      "model_name": "LayoutModel",
      "state": {
       "_model_module": "@jupyter-widgets/base",
       "_model_module_version": "2.0.0",
       "_model_name": "LayoutModel",
       "_view_count": null,
       "_view_module": "@jupyter-widgets/base",
       "_view_module_version": "2.0.0",
       "_view_name": "LayoutView",
       "align_content": null,
       "align_items": null,
       "align_self": null,
       "border_bottom": null,
       "border_left": null,
       "border_right": null,
       "border_top": null,
       "bottom": null,
       "display": null,
       "flex": null,
       "flex_flow": null,
       "grid_area": null,
       "grid_auto_columns": null,
       "grid_auto_flow": null,
       "grid_auto_rows": null,
       "grid_column": null,
       "grid_gap": null,
       "grid_row": null,
       "grid_template_areas": null,
       "grid_template_columns": null,
       "grid_template_rows": null,
       "height": null,
       "justify_content": null,
       "justify_items": null,
       "left": null,
       "margin": null,
       "max_height": null,
       "max_width": null,
       "min_height": null,
       "min_width": null,
       "object_fit": null,
       "object_position": null,
       "order": null,
       "overflow": null,
       "padding": null,
       "right": null,
       "top": null,
       "visibility": null,
       "width": null
      }
     },
     "e2f88aac9c03440ab0bd0b1085a2788e": {
      "model_module": "@jupyter-widgets/controls",
      "model_module_version": "2.0.0",
      "model_name": "HBoxModel",
      "state": {
       "_dom_classes": [],
       "_model_module": "@jupyter-widgets/controls",
       "_model_module_version": "2.0.0",
       "_model_name": "HBoxModel",
       "_view_count": null,
       "_view_module": "@jupyter-widgets/controls",
       "_view_module_version": "2.0.0",
       "_view_name": "HBoxView",
       "box_style": "",
       "children": [
        "IPY_MODEL_7d5daa28046f4a168ecdc2be7fdd6b1f",
        "IPY_MODEL_29a1111ee4924ce3ac611b1e902f57d0",
        "IPY_MODEL_0d88edda67ee4a64985d368f49c121e7"
       ],
       "layout": "IPY_MODEL_99db9426282e4b1e828b6b120176779b",
       "tabbable": null,
       "tooltip": null
      }
     },
     "e5c2528946444baf9e12e670aec19112": {
      "model_module": "@jupyter-widgets/base",
      "model_module_version": "2.0.0",
      "model_name": "LayoutModel",
      "state": {
       "_model_module": "@jupyter-widgets/base",
       "_model_module_version": "2.0.0",
       "_model_name": "LayoutModel",
       "_view_count": null,
       "_view_module": "@jupyter-widgets/base",
       "_view_module_version": "2.0.0",
       "_view_name": "LayoutView",
       "align_content": null,
       "align_items": null,
       "align_self": null,
       "border_bottom": null,
       "border_left": null,
       "border_right": null,
       "border_top": null,
       "bottom": null,
       "display": null,
       "flex": null,
       "flex_flow": null,
       "grid_area": null,
       "grid_auto_columns": null,
       "grid_auto_flow": null,
       "grid_auto_rows": null,
       "grid_column": null,
       "grid_gap": null,
       "grid_row": null,
       "grid_template_areas": null,
       "grid_template_columns": null,
       "grid_template_rows": null,
       "height": null,
       "justify_content": null,
       "justify_items": null,
       "left": null,
       "margin": null,
       "max_height": null,
       "max_width": null,
       "min_height": null,
       "min_width": null,
       "object_fit": null,
       "object_position": null,
       "order": null,
       "overflow": null,
       "padding": null,
       "right": null,
       "top": null,
       "visibility": null,
       "width": null
      }
     },
     "e6130fedd7414aeeb136168f0ebfdad8": {
      "model_module": "@jupyter-widgets/controls",
      "model_module_version": "2.0.0",
      "model_name": "FloatProgressModel",
      "state": {
       "_dom_classes": [],
       "_model_module": "@jupyter-widgets/controls",
       "_model_module_version": "2.0.0",
       "_model_name": "FloatProgressModel",
       "_view_count": null,
       "_view_module": "@jupyter-widgets/controls",
       "_view_module_version": "2.0.0",
       "_view_name": "ProgressView",
       "bar_style": "success",
       "description": "",
       "description_allow_html": false,
       "layout": "IPY_MODEL_05a83e61d7d74654bd23b8d8acc0ab67",
       "max": 558,
       "min": 0,
       "orientation": "horizontal",
       "style": "IPY_MODEL_41764faaf1be45a1acf3810782cb6f50",
       "tabbable": null,
       "tooltip": null,
       "value": 558
      }
     },
     "e83a3236948848c68935bee41bbde022": {
      "model_module": "@jupyter-widgets/controls",
      "model_module_version": "2.0.0",
      "model_name": "HBoxModel",
      "state": {
       "_dom_classes": [],
       "_model_module": "@jupyter-widgets/controls",
       "_model_module_version": "2.0.0",
       "_model_name": "HBoxModel",
       "_view_count": null,
       "_view_module": "@jupyter-widgets/controls",
       "_view_module_version": "2.0.0",
       "_view_name": "HBoxView",
       "box_style": "",
       "children": [
        "IPY_MODEL_a107e45053b544d68453dea2c85180ac",
        "IPY_MODEL_43b9a2b561a74844aa0c873cfdd475ee",
        "IPY_MODEL_6685e728a31a4561bff64d554542bba2"
       ],
       "layout": "IPY_MODEL_580efe371fb2483dafd9071086de13dd",
       "tabbable": null,
       "tooltip": null
      }
     },
     "eae23e1dfe174071ab52c22d465fe3a6": {
      "model_module": "@jupyter-widgets/base",
      "model_module_version": "2.0.0",
      "model_name": "LayoutModel",
      "state": {
       "_model_module": "@jupyter-widgets/base",
       "_model_module_version": "2.0.0",
       "_model_name": "LayoutModel",
       "_view_count": null,
       "_view_module": "@jupyter-widgets/base",
       "_view_module_version": "2.0.0",
       "_view_name": "LayoutView",
       "align_content": null,
       "align_items": null,
       "align_self": null,
       "border_bottom": null,
       "border_left": null,
       "border_right": null,
       "border_top": null,
       "bottom": null,
       "display": null,
       "flex": null,
       "flex_flow": null,
       "grid_area": null,
       "grid_auto_columns": null,
       "grid_auto_flow": null,
       "grid_auto_rows": null,
       "grid_column": null,
       "grid_gap": null,
       "grid_row": null,
       "grid_template_areas": null,
       "grid_template_columns": null,
       "grid_template_rows": null,
       "height": null,
       "justify_content": null,
       "justify_items": null,
       "left": null,
       "margin": null,
       "max_height": null,
       "max_width": null,
       "min_height": null,
       "min_width": null,
       "object_fit": null,
       "object_position": null,
       "order": null,
       "overflow": null,
       "padding": null,
       "right": null,
       "top": null,
       "visibility": null,
       "width": null
      }
     },
     "eb85e009dcb04f419fa475ecf0204225": {
      "model_module": "@jupyter-widgets/controls",
      "model_module_version": "2.0.0",
      "model_name": "HBoxModel",
      "state": {
       "_dom_classes": [],
       "_model_module": "@jupyter-widgets/controls",
       "_model_module_version": "2.0.0",
       "_model_name": "HBoxModel",
       "_view_count": null,
       "_view_module": "@jupyter-widgets/controls",
       "_view_module_version": "2.0.0",
       "_view_name": "HBoxView",
       "box_style": "",
       "children": [
        "IPY_MODEL_276f9024c2ae48b19f92b66b852bf99e",
        "IPY_MODEL_a5d300c551074a0294d38b5c78adcceb",
        "IPY_MODEL_cc30b28195c949c2850ae5ac980fc57a"
       ],
       "layout": "IPY_MODEL_c9b6e7bdd4e2406d9cf9ebf80b1d5480",
       "tabbable": null,
       "tooltip": null
      }
     },
     "edd1ba88b537438bb67fd8d032eb92e2": {
      "model_module": "@jupyter-widgets/controls",
      "model_module_version": "2.0.0",
      "model_name": "HBoxModel",
      "state": {
       "_dom_classes": [],
       "_model_module": "@jupyter-widgets/controls",
       "_model_module_version": "2.0.0",
       "_model_name": "HBoxModel",
       "_view_count": null,
       "_view_module": "@jupyter-widgets/controls",
       "_view_module_version": "2.0.0",
       "_view_name": "HBoxView",
       "box_style": "",
       "children": [
        "IPY_MODEL_3c3dc75946e44ac0b4f4e26cea401116",
        "IPY_MODEL_004f018ed06349919ab5e3aeb8945d02",
        "IPY_MODEL_5cd346dd8d0444deb036d8d21ee817fa"
       ],
       "layout": "IPY_MODEL_3f7a429bf3564ae681b6dc8abc4d90a8",
       "tabbable": null,
       "tooltip": null
      }
     },
     "fd32bd4f9b5a4dcb91f0ab52a4f6c1bd": {
      "model_module": "@jupyter-widgets/controls",
      "model_module_version": "2.0.0",
      "model_name": "HBoxModel",
      "state": {
       "_dom_classes": [],
       "_model_module": "@jupyter-widgets/controls",
       "_model_module_version": "2.0.0",
       "_model_name": "HBoxModel",
       "_view_count": null,
       "_view_module": "@jupyter-widgets/controls",
       "_view_module_version": "2.0.0",
       "_view_name": "HBoxView",
       "box_style": "",
       "children": [
        "IPY_MODEL_0d1bb64f0b6c404799c352528677b69f",
        "IPY_MODEL_6abf1ea2ed75417dbb14e9edfb70ccda",
        "IPY_MODEL_50d2878a6c2c42008b6e0571803dc463"
       ],
       "layout": "IPY_MODEL_36d82b894cb04b6b80c2436894d37f6c",
       "tabbable": null,
       "tooltip": null
      }
     }
    },
    "version_major": 2,
    "version_minor": 0
   }
  }
 },
 "nbformat": 4,
 "nbformat_minor": 5
}
